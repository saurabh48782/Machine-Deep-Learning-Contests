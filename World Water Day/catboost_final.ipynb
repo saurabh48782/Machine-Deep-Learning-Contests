{
 "cells": [
  {
   "cell_type": "markdown",
   "metadata": {},
   "source": [
    "### Importing important libraries"
   ]
  },
  {
   "cell_type": "code",
   "execution_count": 1,
   "metadata": {},
   "outputs": [
    {
     "data": {
      "text/html": [
       "\n",
       "            <div>\n",
       "                <ins><a href=\"ttps://ydata.ai/register\">Upgrade to ydata-sdk</a></ins>\n",
       "                <p>\n",
       "                    Improve your data and profiling with ydata-sdk, featuring data quality scoring, redundancy detection, outlier identification, text validation, and synthetic data generation.\n",
       "                </p>\n",
       "            </div>\n",
       "            "
      ],
      "text/plain": [
       "<IPython.core.display.HTML object>"
      ]
     },
     "metadata": {},
     "output_type": "display_data"
    }
   ],
   "source": [
    "import optuna\n",
    "from optuna.integration import CatBoostPruningCallback\n",
    "from ydata_profiling import ProfileReport\n",
    "import pandas as pd\n",
    "pd.set_option('display.max_columns', None)\n",
    "import numpy as np\n",
    "import seaborn as sns\n",
    "import matplotlib.pyplot as plt\n",
    "from sklearn.model_selection import TimeSeriesSplit, KFold\n",
    "\n",
    "from catboost import CatBoostRegressor, Pool\n",
    "from sklearn.metrics import root_mean_squared_error, r2_score\n",
    "\n",
    "import warnings\n",
    "warnings.filterwarnings('ignore')"
   ]
  },
  {
   "cell_type": "markdown",
   "metadata": {},
   "source": [
    "### Data Reading"
   ]
  },
  {
   "cell_type": "code",
   "execution_count": 2,
   "metadata": {},
   "outputs": [
    {
     "data": {
      "text/html": [
       "<div>\n",
       "<style scoped>\n",
       "    .dataframe tbody tr th:only-of-type {\n",
       "        vertical-align: middle;\n",
       "    }\n",
       "\n",
       "    .dataframe tbody tr th {\n",
       "        vertical-align: top;\n",
       "    }\n",
       "\n",
       "    .dataframe thead th {\n",
       "        text-align: right;\n",
       "    }\n",
       "</style>\n",
       "<table border=\"1\" class=\"dataframe\">\n",
       "  <thead>\n",
       "    <tr style=\"text-align: right;\">\n",
       "      <th></th>\n",
       "      <th>timestamp</th>\n",
       "      <th>residents</th>\n",
       "      <th>apartment_type</th>\n",
       "      <th>temperature</th>\n",
       "      <th>humidity</th>\n",
       "      <th>water_price</th>\n",
       "      <th>period_consumption_index</th>\n",
       "      <th>income_level</th>\n",
       "      <th>guests</th>\n",
       "      <th>amenities</th>\n",
       "      <th>appliance_usage</th>\n",
       "      <th>water_consumption</th>\n",
       "    </tr>\n",
       "  </thead>\n",
       "  <tbody>\n",
       "    <tr>\n",
       "      <th>0</th>\n",
       "      <td>2002-01-01 00:00:00</td>\n",
       "      <td>1</td>\n",
       "      <td>Studio</td>\n",
       "      <td>15.31</td>\n",
       "      <td>46.61</td>\n",
       "      <td>1.06</td>\n",
       "      <td>0.97</td>\n",
       "      <td>Low</td>\n",
       "      <td>0</td>\n",
       "      <td>Swimming Pool</td>\n",
       "      <td>0.0</td>\n",
       "      <td>64.85</td>\n",
       "    </tr>\n",
       "    <tr>\n",
       "      <th>1</th>\n",
       "      <td>2002-01-01 08:00:00</td>\n",
       "      <td>4</td>\n",
       "      <td>NaN</td>\n",
       "      <td>21.01</td>\n",
       "      <td>66.11</td>\n",
       "      <td>2.98</td>\n",
       "      <td>0.91</td>\n",
       "      <td>Upper Middle</td>\n",
       "      <td>1</td>\n",
       "      <td>Swimming Pool</td>\n",
       "      <td>1.0</td>\n",
       "      <td>192.50</td>\n",
       "    </tr>\n",
       "    <tr>\n",
       "      <th>2</th>\n",
       "      <td>2002-01-01 16:00:00</td>\n",
       "      <td>2</td>\n",
       "      <td>Cottage</td>\n",
       "      <td>12.86</td>\n",
       "      <td>60.86</td>\n",
       "      <td>1.44</td>\n",
       "      <td>1.43</td>\n",
       "      <td>Middle</td>\n",
       "      <td>0</td>\n",
       "      <td>NaN</td>\n",
       "      <td>1.0</td>\n",
       "      <td>116.62</td>\n",
       "    </tr>\n",
       "    <tr>\n",
       "      <th>3</th>\n",
       "      <td>2002-01-02 00:00:00</td>\n",
       "      <td>2</td>\n",
       "      <td>1BHK</td>\n",
       "      <td>20.16</td>\n",
       "      <td>50.58</td>\n",
       "      <td>1.48</td>\n",
       "      <td>0.91</td>\n",
       "      <td>Middle</td>\n",
       "      <td>-1</td>\n",
       "      <td>Garden</td>\n",
       "      <td>0.0</td>\n",
       "      <td>76.96</td>\n",
       "    </tr>\n",
       "    <tr>\n",
       "      <th>4</th>\n",
       "      <td>2002-01-02 08:00:00</td>\n",
       "      <td>2</td>\n",
       "      <td>Cottage</td>\n",
       "      <td>16.23</td>\n",
       "      <td>52.25</td>\n",
       "      <td>1.14</td>\n",
       "      <td>1.11</td>\n",
       "      <td>Middle</td>\n",
       "      <td>0</td>\n",
       "      <td>Fountain</td>\n",
       "      <td>0.0</td>\n",
       "      <td>104.70</td>\n",
       "    </tr>\n",
       "  </tbody>\n",
       "</table>\n",
       "</div>"
      ],
      "text/plain": [
       "            timestamp  residents apartment_type  temperature humidity  \\\n",
       "0 2002-01-01 00:00:00          1         Studio        15.31    46.61   \n",
       "1 2002-01-01 08:00:00          4            NaN        21.01    66.11   \n",
       "2 2002-01-01 16:00:00          2        Cottage        12.86    60.86   \n",
       "3 2002-01-02 00:00:00          2           1BHK        20.16    50.58   \n",
       "4 2002-01-02 08:00:00          2        Cottage        16.23    52.25   \n",
       "\n",
       "   water_price  period_consumption_index  income_level  guests      amenities  \\\n",
       "0         1.06                      0.97           Low       0  Swimming Pool   \n",
       "1         2.98                      0.91  Upper Middle       1  Swimming Pool   \n",
       "2         1.44                      1.43        Middle       0            NaN   \n",
       "3         1.48                      0.91        Middle      -1         Garden   \n",
       "4         1.14                      1.11        Middle       0       Fountain   \n",
       "\n",
       "   appliance_usage  water_consumption  \n",
       "0              0.0              64.85  \n",
       "1              1.0             192.50  \n",
       "2              1.0             116.62  \n",
       "3              0.0              76.96  \n",
       "4              0.0             104.70  "
      ]
     },
     "execution_count": 2,
     "metadata": {},
     "output_type": "execute_result"
    }
   ],
   "source": [
    "data = pd.read_csv('dataset/train.csv')\n",
    "test_data = pd.read_csv('dataset/test.csv')\n",
    "\n",
    "data.columns = data.columns.str.lower()\n",
    "test_data.columns = test_data.columns.str.lower()\n",
    "\n",
    "test_index = test_data['timestamp']\n",
    "\n",
    "data['timestamp'] = pd.to_datetime(data['timestamp'], format=\"%d/%m/%Y %H\")\n",
    "test_data['timestamp'] = pd.to_datetime(test_data['timestamp'], format=\"%d/%m/%Y %H\")\n",
    "\n",
    "data = data.sort_values(by='timestamp', ascending=True)\n",
    "\n",
    "data.head() "
   ]
  },
  {
   "cell_type": "markdown",
   "metadata": {},
   "source": [
    "### Data Wrangling, Preparation, EDA and Feature Engineering"
   ]
  },
  {
   "cell_type": "code",
   "execution_count": 3,
   "metadata": {},
   "outputs": [
    {
     "name": "stdout",
     "output_type": "stream",
     "text": [
      "<class 'pandas.core.frame.DataFrame'>\n",
      "RangeIndex: 14000 entries, 0 to 13999\n",
      "Data columns (total 12 columns):\n",
      " #   Column                    Non-Null Count  Dtype         \n",
      "---  ------                    --------------  -----         \n",
      " 0   timestamp                 14000 non-null  datetime64[ns]\n",
      " 1   residents                 14000 non-null  int64         \n",
      " 2   apartment_type            13574 non-null  object        \n",
      " 3   temperature               13559 non-null  float64       \n",
      " 4   humidity                  14000 non-null  object        \n",
      " 5   water_price               14000 non-null  float64       \n",
      " 6   period_consumption_index  14000 non-null  float64       \n",
      " 7   income_level              13574 non-null  object        \n",
      " 8   guests                    14000 non-null  int64         \n",
      " 9   amenities                 8003 non-null   object        \n",
      " 10  appliance_usage           13585 non-null  float64       \n",
      " 11  water_consumption         14000 non-null  float64       \n",
      "dtypes: datetime64[ns](1), float64(5), int64(2), object(4)\n",
      "memory usage: 1.3+ MB\n"
     ]
    }
   ],
   "source": [
    "data.info()"
   ]
  },
  {
   "cell_type": "code",
   "execution_count": 4,
   "metadata": {},
   "outputs": [
    {
     "name": "stdout",
     "output_type": "stream",
     "text": [
      "<class 'pandas.core.frame.DataFrame'>\n",
      "RangeIndex: 6000 entries, 0 to 5999\n",
      "Data columns (total 11 columns):\n",
      " #   Column                    Non-Null Count  Dtype         \n",
      "---  ------                    --------------  -----         \n",
      " 0   timestamp                 6000 non-null   datetime64[ns]\n",
      " 1   residents                 6000 non-null   int64         \n",
      " 2   apartment_type            5834 non-null   object        \n",
      " 3   temperature               5850 non-null   float64       \n",
      " 4   humidity                  6000 non-null   object        \n",
      " 5   water_price               6000 non-null   float64       \n",
      " 6   period_consumption_index  6000 non-null   float64       \n",
      " 7   income_level              5835 non-null   object        \n",
      " 8   guests                    6000 non-null   int64         \n",
      " 9   amenities                 3487 non-null   object        \n",
      " 10  appliance_usage           5823 non-null   float64       \n",
      "dtypes: datetime64[ns](1), float64(4), int64(2), object(4)\n",
      "memory usage: 515.8+ KB\n"
     ]
    }
   ],
   "source": [
    "test_data.info()"
   ]
  },
  {
   "cell_type": "code",
   "execution_count": 5,
   "metadata": {},
   "outputs": [
    {
     "data": {
      "text/html": [
       "<div>\n",
       "<style scoped>\n",
       "    .dataframe tbody tr th:only-of-type {\n",
       "        vertical-align: middle;\n",
       "    }\n",
       "\n",
       "    .dataframe tbody tr th {\n",
       "        vertical-align: top;\n",
       "    }\n",
       "\n",
       "    .dataframe thead th {\n",
       "        text-align: right;\n",
       "    }\n",
       "</style>\n",
       "<table border=\"1\" class=\"dataframe\">\n",
       "  <thead>\n",
       "    <tr style=\"text-align: right;\">\n",
       "      <th></th>\n",
       "      <th>timestamp</th>\n",
       "      <th>residents</th>\n",
       "      <th>apartment_type</th>\n",
       "      <th>temperature</th>\n",
       "      <th>humidity</th>\n",
       "      <th>water_price</th>\n",
       "      <th>period_consumption_index</th>\n",
       "      <th>income_level</th>\n",
       "      <th>guests</th>\n",
       "      <th>amenities</th>\n",
       "      <th>appliance_usage</th>\n",
       "      <th>water_consumption</th>\n",
       "    </tr>\n",
       "  </thead>\n",
       "  <tbody>\n",
       "    <tr>\n",
       "      <th>0</th>\n",
       "      <td>2002-01-01 00:00:00</td>\n",
       "      <td>1</td>\n",
       "      <td>Studio</td>\n",
       "      <td>15.31</td>\n",
       "      <td>46.61</td>\n",
       "      <td>1.06</td>\n",
       "      <td>0.97</td>\n",
       "      <td>Low</td>\n",
       "      <td>0</td>\n",
       "      <td>Swimming Pool</td>\n",
       "      <td>0.0</td>\n",
       "      <td>64.85</td>\n",
       "    </tr>\n",
       "    <tr>\n",
       "      <th>1</th>\n",
       "      <td>2002-01-01 08:00:00</td>\n",
       "      <td>4</td>\n",
       "      <td>NaN</td>\n",
       "      <td>21.01</td>\n",
       "      <td>66.11</td>\n",
       "      <td>2.98</td>\n",
       "      <td>0.91</td>\n",
       "      <td>Upper Middle</td>\n",
       "      <td>1</td>\n",
       "      <td>Swimming Pool</td>\n",
       "      <td>1.0</td>\n",
       "      <td>192.50</td>\n",
       "    </tr>\n",
       "    <tr>\n",
       "      <th>2</th>\n",
       "      <td>2002-01-01 16:00:00</td>\n",
       "      <td>2</td>\n",
       "      <td>Cottage</td>\n",
       "      <td>12.86</td>\n",
       "      <td>60.86</td>\n",
       "      <td>1.44</td>\n",
       "      <td>1.43</td>\n",
       "      <td>Middle</td>\n",
       "      <td>0</td>\n",
       "      <td>NaN</td>\n",
       "      <td>1.0</td>\n",
       "      <td>116.62</td>\n",
       "    </tr>\n",
       "    <tr>\n",
       "      <th>3</th>\n",
       "      <td>2002-01-02 00:00:00</td>\n",
       "      <td>2</td>\n",
       "      <td>1BHK</td>\n",
       "      <td>20.16</td>\n",
       "      <td>50.58</td>\n",
       "      <td>1.48</td>\n",
       "      <td>0.91</td>\n",
       "      <td>Middle</td>\n",
       "      <td>-1</td>\n",
       "      <td>Garden</td>\n",
       "      <td>0.0</td>\n",
       "      <td>76.96</td>\n",
       "    </tr>\n",
       "    <tr>\n",
       "      <th>4</th>\n",
       "      <td>2002-01-02 08:00:00</td>\n",
       "      <td>2</td>\n",
       "      <td>Cottage</td>\n",
       "      <td>16.23</td>\n",
       "      <td>52.25</td>\n",
       "      <td>1.14</td>\n",
       "      <td>1.11</td>\n",
       "      <td>Middle</td>\n",
       "      <td>0</td>\n",
       "      <td>Fountain</td>\n",
       "      <td>0.0</td>\n",
       "      <td>104.70</td>\n",
       "    </tr>\n",
       "  </tbody>\n",
       "</table>\n",
       "</div>"
      ],
      "text/plain": [
       "            timestamp  residents apartment_type  temperature humidity  \\\n",
       "0 2002-01-01 00:00:00          1         Studio        15.31    46.61   \n",
       "1 2002-01-01 08:00:00          4            NaN        21.01    66.11   \n",
       "2 2002-01-01 16:00:00          2        Cottage        12.86    60.86   \n",
       "3 2002-01-02 00:00:00          2           1BHK        20.16    50.58   \n",
       "4 2002-01-02 08:00:00          2        Cottage        16.23    52.25   \n",
       "\n",
       "   water_price  period_consumption_index  income_level  guests      amenities  \\\n",
       "0         1.06                      0.97           Low       0  Swimming Pool   \n",
       "1         2.98                      0.91  Upper Middle       1  Swimming Pool   \n",
       "2         1.44                      1.43        Middle       0            NaN   \n",
       "3         1.48                      0.91        Middle      -1         Garden   \n",
       "4         1.14                      1.11        Middle       0       Fountain   \n",
       "\n",
       "   appliance_usage  water_consumption  \n",
       "0              0.0              64.85  \n",
       "1              1.0             192.50  \n",
       "2              1.0             116.62  \n",
       "3              0.0              76.96  \n",
       "4              0.0             104.70  "
      ]
     },
     "execution_count": 5,
     "metadata": {},
     "output_type": "execute_result"
    }
   ],
   "source": [
    "df = pd.concat([data, test_data], axis = 0).reset_index(drop=True)\n",
    "df.head()"
   ]
  },
  {
   "cell_type": "code",
   "execution_count": 6,
   "metadata": {},
   "outputs": [
    {
     "data": {
      "text/plain": [
       "timestamp                      0\n",
       "residents                      0\n",
       "apartment_type               592\n",
       "temperature                  591\n",
       "humidity                       0\n",
       "water_price                    0\n",
       "period_consumption_index       0\n",
       "income_level                 591\n",
       "guests                         0\n",
       "amenities                   8510\n",
       "appliance_usage              592\n",
       "water_consumption           6000\n",
       "dtype: int64"
      ]
     },
     "execution_count": 6,
     "metadata": {},
     "output_type": "execute_result"
    }
   ],
   "source": [
    "df.isna().sum()"
   ]
  },
  {
   "cell_type": "code",
   "execution_count": 7,
   "metadata": {},
   "outputs": [],
   "source": [
    "df  = df.loc[df['residents']>0].reset_index(drop=True)\n",
    "df  = df.loc[df['guests']>=0].reset_index(drop=True)\n",
    "df  = df.loc[df['water_price']>0].reset_index(drop=True)\n",
    "df  = df.loc[df['period_consumption_index']>0].reset_index(drop=True)"
   ]
  },
  {
   "cell_type": "code",
   "execution_count": 8,
   "metadata": {},
   "outputs": [
    {
     "name": "stdout",
     "output_type": "stream",
     "text": [
      "Number of rows that couldn't be converted to float in train data: 397\n",
      "Number of rows that couldn't be converted to float in test data: 194\n",
      "Number of rows that couldn't be converted to float in test data: 557\n"
     ]
    }
   ],
   "source": [
    "data['humidity'] = pd.to_numeric(data['humidity'], errors='coerce')\n",
    "data_non_convertible_count = data['humidity'].isna().sum()\n",
    "\n",
    "print(f\"Number of rows that couldn't be converted to float in train data: {data_non_convertible_count}\")\n",
    "\n",
    "test_data['humidity'] = pd.to_numeric(test_data['humidity'], errors='coerce')\n",
    "test_data_non_convertible_count = test_data['humidity'].isna().sum()\n",
    "\n",
    "print(f\"Number of rows that couldn't be converted to float in test data: {test_data_non_convertible_count}\")\n",
    "\n",
    "df['humidity'] = pd.to_numeric(df['humidity'], errors='coerce')\n",
    "df_non_convertible_count = df['humidity'].isna().sum()\n",
    "\n",
    "print(f\"Number of rows that couldn't be converted to float in test data: {df_non_convertible_count}\")"
   ]
  },
  {
   "cell_type": "code",
   "execution_count": 9,
   "metadata": {},
   "outputs": [],
   "source": [
    "valid_categories = ['Low', 'Middle', 'Upper Middle', 'Rich']\n",
    "df['income_level'] = df['income_level'].apply(lambda x: x if x in valid_categories else np.nan)\n",
    "\n",
    "df['amenities'] = df['amenities'].fillna('NA')\n",
    "\n",
    "df['appliance_usage'] = df['appliance_usage'].map({\n",
    "    0: \"No\",\n",
    "    1: \"Yes\",\n",
    "})\n",
    "df['appliance_usage'] = df['appliance_usage'].fillna('NA')"
   ]
  },
  {
   "cell_type": "code",
   "execution_count": 10,
   "metadata": {},
   "outputs": [],
   "source": [
    "# # Create a profiling data report using ydata_profiling library\n",
    "# profile = ProfileReport(data, title=\"Profiling Report\")\n",
    "# profile.to_file(\"profiling_report.html\")"
   ]
  },
  {
   "cell_type": "code",
   "execution_count": 11,
   "metadata": {},
   "outputs": [
    {
     "data": {
      "text/plain": [
       "timestamp                      0\n",
       "residents                      0\n",
       "apartment_type               562\n",
       "temperature                  561\n",
       "humidity                     557\n",
       "water_price                    0\n",
       "period_consumption_index       0\n",
       "income_level                1101\n",
       "guests                         0\n",
       "amenities                      0\n",
       "appliance_usage                0\n",
       "water_consumption           5698\n",
       "dtype: int64"
      ]
     },
     "execution_count": 11,
     "metadata": {},
     "output_type": "execute_result"
    }
   ],
   "source": [
    "df.isna().sum()"
   ]
  },
  {
   "cell_type": "code",
   "execution_count": 12,
   "metadata": {},
   "outputs": [
    {
     "data": {
      "text/plain": [
       "timestamp                      0\n",
       "residents                      0\n",
       "apartment_type               426\n",
       "temperature                  441\n",
       "humidity                     397\n",
       "water_price                    0\n",
       "period_consumption_index       0\n",
       "income_level                 426\n",
       "guests                         0\n",
       "amenities                   5997\n",
       "appliance_usage              415\n",
       "water_consumption              0\n",
       "dtype: int64"
      ]
     },
     "execution_count": 12,
     "metadata": {},
     "output_type": "execute_result"
    }
   ],
   "source": [
    "data.isna().sum()"
   ]
  },
  {
   "cell_type": "code",
   "execution_count": 13,
   "metadata": {},
   "outputs": [
    {
     "data": {
      "text/plain": [
       "timestamp                      0\n",
       "residents                      0\n",
       "apartment_type               166\n",
       "temperature                  150\n",
       "humidity                     194\n",
       "water_price                    0\n",
       "period_consumption_index       0\n",
       "income_level                 165\n",
       "guests                         0\n",
       "amenities                   2513\n",
       "appliance_usage              177\n",
       "dtype: int64"
      ]
     },
     "execution_count": 13,
     "metadata": {},
     "output_type": "execute_result"
    }
   ],
   "source": [
    "test_data.isna().sum()"
   ]
  },
  {
   "cell_type": "code",
   "execution_count": 14,
   "metadata": {},
   "outputs": [
    {
     "name": "stdout",
     "output_type": "stream",
     "text": [
      "Shape of raw data: (14000, 12)\n"
     ]
    }
   ],
   "source": [
    "\n",
    "print(f\"Shape of raw data: {data.shape}\")\n",
    "data  = data.loc[data['residents']>0].reset_index(drop=True)\n",
    "data  = data.loc[data['guests']>=0].reset_index(drop=True)\n",
    "data  = data.loc[data['water_price']>0].reset_index(drop=True)\n",
    "data  = data.loc[data['period_consumption_index']>0].reset_index(drop=True)\n",
    "\n",
    "# Since the target column is right skewed\n",
    "data['water_consumption'] = np.log1p(data['water_consumption'])"
   ]
  },
  {
   "cell_type": "code",
   "execution_count": 15,
   "metadata": {},
   "outputs": [
    {
     "name": "stdout",
     "output_type": "stream",
     "text": [
      "Shape of data after deleting redundant rows: (13307, 12)\n"
     ]
    }
   ],
   "source": [
    "# Imputing residents using median of residents for each apartment\n",
    "median_per_apartment = df.groupby('apartment_type')['residents'].median()\n",
    "global_median = df[df['residents'] > 0]['residents'].median()\n",
    "\n",
    "test_data['residents'] = test_data.apply(\n",
    "    lambda row: median_per_apartment.get(row['apartment_type'], global_median) if row['residents'] < 0 else row['residents'], \n",
    "    axis=1\n",
    ")\n",
    "\n",
    "data['guests'] = data['guests'].apply(lambda x: 0 if x < 0 else x)\n",
    "test_data['guests'] = test_data['guests'].apply(lambda x: 0 if x < 0 else x)\n",
    "\n",
    "median_water_price = data[data['water_price'] > 0]['water_price'].median()\n",
    "data['water_price'] = data['water_price'].apply(lambda x: median_water_price if x < 0 else x)\n",
    "test_data['water_price'] = test_data['water_price'].apply(lambda x: median_water_price if x < 0 else x)\n",
    "\n",
    "median_pci = data[data['period_consumption_index'] > 0]['period_consumption_index'].median()\n",
    "data['period_consumption_index'] = data['period_consumption_index'].apply(lambda x: median_pci if x < 0 else x)\n",
    "test_data['period_consumption_index'] = test_data['period_consumption_index'].apply(lambda x: median_pci if x < 0 else x)\n",
    "\n",
    "valid_categories = ['Low', 'Middle', 'Upper Middle', 'Rich']\n",
    "\n",
    "data['income_level'] = data['income_level'].apply(lambda x: x if x in valid_categories else np.nan)\n",
    "test_data['income_level'] = test_data['income_level'].apply(lambda x: x if x in valid_categories else np.nan)\n",
    "\n",
    "# Since the temperature has fairly uniform distribution without much skewness, imputing the null values with the median\n",
    "data['temperature'] = data['temperature'].fillna(data['temperature'].median())\n",
    "test_data['temperature'] = test_data['temperature'].fillna(data['temperature'].median())\n",
    "\n",
    "# Imputing the null values with for humidity with median\n",
    "data['humidity'] = data['humidity'].fillna(data['humidity'].median())\n",
    "test_data['humidity'] = test_data['humidity'].fillna(data['humidity'].median())\n",
    "\n",
    "data['amenities'] = data['amenities'].fillna('NA')\n",
    "test_data['amenities'] = test_data['amenities'].fillna('NA')\n",
    "\n",
    "data['appliance_usage'] = data['appliance_usage'].map({\n",
    "    0: \"No\",\n",
    "    1: \"Yes\",\n",
    "})\n",
    "data['appliance_usage'] = data['appliance_usage'].fillna('NA')\n",
    "\n",
    "test_data['appliance_usage'] = test_data['appliance_usage'].map({\n",
    "    0: \"No\",\n",
    "    1: \"Yes\",\n",
    "})\n",
    "test_data['appliance_usage'] = test_data['appliance_usage'].fillna('NA')\n",
    "\n",
    "print(f\"Shape of data after deleting redundant rows: {data.shape}\")"
   ]
  },
  {
   "cell_type": "code",
   "execution_count": 16,
   "metadata": {},
   "outputs": [
    {
     "data": {
      "text/html": [
       "<div>\n",
       "<style scoped>\n",
       "    .dataframe tbody tr th:only-of-type {\n",
       "        vertical-align: middle;\n",
       "    }\n",
       "\n",
       "    .dataframe tbody tr th {\n",
       "        vertical-align: top;\n",
       "    }\n",
       "\n",
       "    .dataframe thead th {\n",
       "        text-align: right;\n",
       "    }\n",
       "</style>\n",
       "<table border=\"1\" class=\"dataframe\">\n",
       "  <thead>\n",
       "    <tr style=\"text-align: right;\">\n",
       "      <th>apartment_type</th>\n",
       "      <th>1BHK</th>\n",
       "      <th>2BHK</th>\n",
       "      <th>3BHK</th>\n",
       "      <th>Bungalow</th>\n",
       "      <th>Cottage</th>\n",
       "      <th>Detached</th>\n",
       "      <th>Studio</th>\n",
       "    </tr>\n",
       "    <tr>\n",
       "      <th>income_level</th>\n",
       "      <th></th>\n",
       "      <th></th>\n",
       "      <th></th>\n",
       "      <th></th>\n",
       "      <th></th>\n",
       "      <th></th>\n",
       "      <th></th>\n",
       "    </tr>\n",
       "  </thead>\n",
       "  <tbody>\n",
       "    <tr>\n",
       "      <th>Low</th>\n",
       "      <td>1531</td>\n",
       "      <td>0</td>\n",
       "      <td>0</td>\n",
       "      <td>0</td>\n",
       "      <td>0</td>\n",
       "      <td>0</td>\n",
       "      <td>1561</td>\n",
       "    </tr>\n",
       "    <tr>\n",
       "      <th>Middle</th>\n",
       "      <td>2349</td>\n",
       "      <td>2260</td>\n",
       "      <td>0</td>\n",
       "      <td>0</td>\n",
       "      <td>2317</td>\n",
       "      <td>0</td>\n",
       "      <td>0</td>\n",
       "    </tr>\n",
       "    <tr>\n",
       "      <th>Rich</th>\n",
       "      <td>0</td>\n",
       "      <td>0</td>\n",
       "      <td>709</td>\n",
       "      <td>706</td>\n",
       "      <td>0</td>\n",
       "      <td>711</td>\n",
       "      <td>0</td>\n",
       "    </tr>\n",
       "    <tr>\n",
       "      <th>Upper Middle</th>\n",
       "      <td>0</td>\n",
       "      <td>1777</td>\n",
       "      <td>1720</td>\n",
       "      <td>1726</td>\n",
       "      <td>0</td>\n",
       "      <td>0</td>\n",
       "      <td>0</td>\n",
       "    </tr>\n",
       "  </tbody>\n",
       "</table>\n",
       "</div>"
      ],
      "text/plain": [
       "apartment_type  1BHK  2BHK  3BHK  Bungalow  Cottage  Detached  Studio\n",
       "income_level                                                         \n",
       "Low             1531     0     0         0        0         0    1561\n",
       "Middle          2349  2260     0         0     2317         0       0\n",
       "Rich               0     0   709       706        0       711       0\n",
       "Upper Middle       0  1777  1720      1726        0         0       0"
      ]
     },
     "execution_count": 16,
     "metadata": {},
     "output_type": "execute_result"
    }
   ],
   "source": [
    "contingency_table1 = pd.crosstab(df['income_level'], df['apartment_type'])\n",
    "contingency_table1"
   ]
  },
  {
   "cell_type": "code",
   "execution_count": 17,
   "metadata": {},
   "outputs": [
    {
     "data": {
      "text/html": [
       "<div>\n",
       "<style scoped>\n",
       "    .dataframe tbody tr th:only-of-type {\n",
       "        vertical-align: middle;\n",
       "    }\n",
       "\n",
       "    .dataframe tbody tr th {\n",
       "        vertical-align: top;\n",
       "    }\n",
       "\n",
       "    .dataframe thead th {\n",
       "        text-align: right;\n",
       "    }\n",
       "</style>\n",
       "<table border=\"1\" class=\"dataframe\">\n",
       "  <thead>\n",
       "    <tr style=\"text-align: right;\">\n",
       "      <th>apartment_type</th>\n",
       "      <th>1BHK</th>\n",
       "      <th>2BHK</th>\n",
       "      <th>3BHK</th>\n",
       "      <th>Bungalow</th>\n",
       "      <th>Cottage</th>\n",
       "      <th>Detached</th>\n",
       "      <th>Studio</th>\n",
       "    </tr>\n",
       "    <tr>\n",
       "      <th>residents</th>\n",
       "      <th></th>\n",
       "      <th></th>\n",
       "      <th></th>\n",
       "      <th></th>\n",
       "      <th></th>\n",
       "      <th></th>\n",
       "      <th></th>\n",
       "    </tr>\n",
       "  </thead>\n",
       "  <tbody>\n",
       "    <tr>\n",
       "      <th>1</th>\n",
       "      <td>0</td>\n",
       "      <td>0</td>\n",
       "      <td>0</td>\n",
       "      <td>0</td>\n",
       "      <td>0</td>\n",
       "      <td>0</td>\n",
       "      <td>845</td>\n",
       "    </tr>\n",
       "    <tr>\n",
       "      <th>2</th>\n",
       "      <td>2074</td>\n",
       "      <td>0</td>\n",
       "      <td>0</td>\n",
       "      <td>0</td>\n",
       "      <td>1210</td>\n",
       "      <td>0</td>\n",
       "      <td>802</td>\n",
       "    </tr>\n",
       "    <tr>\n",
       "      <th>3</th>\n",
       "      <td>2055</td>\n",
       "      <td>1482</td>\n",
       "      <td>862</td>\n",
       "      <td>847</td>\n",
       "      <td>1252</td>\n",
       "      <td>259</td>\n",
       "      <td>0</td>\n",
       "    </tr>\n",
       "    <tr>\n",
       "      <th>4</th>\n",
       "      <td>0</td>\n",
       "      <td>1379</td>\n",
       "      <td>860</td>\n",
       "      <td>890</td>\n",
       "      <td>0</td>\n",
       "      <td>265</td>\n",
       "      <td>0</td>\n",
       "    </tr>\n",
       "    <tr>\n",
       "      <th>5</th>\n",
       "      <td>0</td>\n",
       "      <td>1411</td>\n",
       "      <td>864</td>\n",
       "      <td>848</td>\n",
       "      <td>0</td>\n",
       "      <td>238</td>\n",
       "      <td>0</td>\n",
       "    </tr>\n",
       "  </tbody>\n",
       "</table>\n",
       "</div>"
      ],
      "text/plain": [
       "apartment_type  1BHK  2BHK  3BHK  Bungalow  Cottage  Detached  Studio\n",
       "residents                                                            \n",
       "1                  0     0     0         0        0         0     845\n",
       "2               2074     0     0         0     1210         0     802\n",
       "3               2055  1482   862       847     1252       259       0\n",
       "4                  0  1379   860       890        0       265       0\n",
       "5                  0  1411   864       848        0       238       0"
      ]
     },
     "execution_count": 17,
     "metadata": {},
     "output_type": "execute_result"
    }
   ],
   "source": [
    "contingency_table2 = pd.crosstab(df['residents'], df['apartment_type'])\n",
    "contingency_table2"
   ]
  },
  {
   "cell_type": "code",
   "execution_count": 18,
   "metadata": {},
   "outputs": [
    {
     "data": {
      "text/html": [
       "<div>\n",
       "<style scoped>\n",
       "    .dataframe tbody tr th:only-of-type {\n",
       "        vertical-align: middle;\n",
       "    }\n",
       "\n",
       "    .dataframe tbody tr th {\n",
       "        vertical-align: top;\n",
       "    }\n",
       "\n",
       "    .dataframe thead th {\n",
       "        text-align: right;\n",
       "    }\n",
       "</style>\n",
       "<table border=\"1\" class=\"dataframe\">\n",
       "  <thead>\n",
       "    <tr style=\"text-align: right;\">\n",
       "      <th>residents</th>\n",
       "      <th>1</th>\n",
       "      <th>2</th>\n",
       "      <th>3</th>\n",
       "      <th>4</th>\n",
       "      <th>5</th>\n",
       "    </tr>\n",
       "    <tr>\n",
       "      <th>income_level</th>\n",
       "      <th></th>\n",
       "      <th></th>\n",
       "      <th></th>\n",
       "      <th></th>\n",
       "      <th></th>\n",
       "    </tr>\n",
       "  </thead>\n",
       "  <tbody>\n",
       "    <tr>\n",
       "      <th>Low</th>\n",
       "      <td>821</td>\n",
       "      <td>1545</td>\n",
       "      <td>813</td>\n",
       "      <td>0</td>\n",
       "      <td>0</td>\n",
       "    </tr>\n",
       "    <tr>\n",
       "      <th>Middle</th>\n",
       "      <td>0</td>\n",
       "      <td>2419</td>\n",
       "      <td>3197</td>\n",
       "      <td>772</td>\n",
       "      <td>782</td>\n",
       "    </tr>\n",
       "    <tr>\n",
       "      <th>Rich</th>\n",
       "      <td>0</td>\n",
       "      <td>0</td>\n",
       "      <td>724</td>\n",
       "      <td>731</td>\n",
       "      <td>731</td>\n",
       "    </tr>\n",
       "    <tr>\n",
       "      <th>Upper Middle</th>\n",
       "      <td>0</td>\n",
       "      <td>0</td>\n",
       "      <td>1813</td>\n",
       "      <td>1775</td>\n",
       "      <td>1781</td>\n",
       "    </tr>\n",
       "  </tbody>\n",
       "</table>\n",
       "</div>"
      ],
      "text/plain": [
       "residents       1     2     3     4     5\n",
       "income_level                             \n",
       "Low           821  1545   813     0     0\n",
       "Middle          0  2419  3197   772   782\n",
       "Rich            0     0   724   731   731\n",
       "Upper Middle    0     0  1813  1775  1781"
      ]
     },
     "execution_count": 18,
     "metadata": {},
     "output_type": "execute_result"
    }
   ],
   "source": [
    "contingency_table3 = pd.crosstab(df['income_level'], df['residents'])\n",
    "contingency_table3"
   ]
  },
  {
   "cell_type": "code",
   "execution_count": 19,
   "metadata": {},
   "outputs": [],
   "source": [
    "index98 = data.loc[(data['apartment_type']=='Studio') & (data['residents']<=2) & (data['income_level'].isnull()==True)].index\n",
    "data.loc[index98, 'income_level'] = 'Low'\n",
    "\n",
    "index97 = test_data.loc[(data['apartment_type']=='Studio') & (test_data['residents']<=2) & (test_data['income_level'].isnull()==True)].index\n",
    "test_data.loc[index97, 'income_level'] = 'Low'\n",
    "\n",
    "index96 = data.loc[(data['apartment_type']=='Studio') & (data['residents']<0)].index\n",
    "data.loc[index96, 'residents'] = 1\n",
    "\n",
    "index95 = test_data.loc[(test_data['apartment_type']=='Studio') & (test_data['residents']<0)].index\n",
    "test_data.loc[index95, 'residents'] = 1"
   ]
  },
  {
   "cell_type": "code",
   "execution_count": 20,
   "metadata": {},
   "outputs": [],
   "source": [
    "# As can be observed from above single resident mostly choose Studio for living so we can impute them with Studio\n",
    "index1 = data.loc[(data['apartment_type'].isnull()==True)&(data['residents']==1)].index\n",
    "data.loc[index1, 'apartment_type'] = 'Studio'\n",
    "\n",
    "# As can be observed from above low income people having 3 resident mostly choose 1BHK for living so we can impute them\n",
    "index2 = data.loc[(data['apartment_type'].isnull()==True)&(data['residents']==3)&(data['income_level']=='Low')].index\n",
    "data.loc[index2, 'apartment_type'] = '1BHK'\n",
    "\n",
    "# As can be observed from above middle class income people having 4 or more residents mostly choose 2BHK for living so we can impute them\n",
    "index3 = data.loc[(data['apartment_type'].isnull()==True)&(data['residents']>=4)&(data['income_level']=='Middle')].index\n",
    "data.loc[index3, 'apartment_type'] = '2BHK'\n",
    "\n",
    "index4 = test_data.loc[(test_data['apartment_type'].isnull()==True) & (test_data['residents']==1)].index\n",
    "test_data.loc[index4, 'apartment_type'] = 'Studio'\n",
    "\n",
    "index5 = test_data.loc[(test_data['apartment_type'].isnull()==True) & (test_data['residents']==3) & (test_data['income_level']=='Low')].index\n",
    "test_data.loc[index5, 'apartment_type'] = '1BHK'\n",
    "\n",
    "index6 = test_data.loc[(test_data['apartment_type'].isnull()==True) & (test_data['residents']>=4) & (test_data['income_level']=='Middle')].index\n",
    "test_data.loc[index6, 'apartment_type'] = '2BHK'"
   ]
  },
  {
   "cell_type": "code",
   "execution_count": 21,
   "metadata": {},
   "outputs": [],
   "source": [
    "data['apartment_type'] = data['apartment_type'].fillna('NA')\n",
    "test_data['apartment_type'] = test_data['apartment_type'].fillna('NA')\n",
    "\n",
    "data['income_level'] = data['income_level'].fillna('NA')\n",
    "test_data['income_level'] = test_data['income_level'].fillna('NA')"
   ]
  },
  {
   "cell_type": "code",
   "execution_count": 22,
   "metadata": {},
   "outputs": [],
   "source": [
    "data['total_people'] = data['residents'] + data['guests']\n",
    "\n",
    "data.drop(columns=['residents', 'guests'], inplace=True)\n",
    "\n",
    "test_data['total_people'] = test_data['residents'] + test_data['guests']\n",
    "\n",
    "test_data.drop(columns=['residents', 'guests'], inplace=True)"
   ]
  },
  {
   "cell_type": "code",
   "execution_count": 23,
   "metadata": {},
   "outputs": [
    {
     "data": {
      "text/plain": [
       "timestamp                   0\n",
       "apartment_type              0\n",
       "temperature                 0\n",
       "humidity                    0\n",
       "water_price                 0\n",
       "period_consumption_index    0\n",
       "income_level                0\n",
       "amenities                   0\n",
       "appliance_usage             0\n",
       "water_consumption           0\n",
       "total_people                0\n",
       "dtype: int64"
      ]
     },
     "execution_count": 23,
     "metadata": {},
     "output_type": "execute_result"
    }
   ],
   "source": [
    "data.isna().sum()"
   ]
  },
  {
   "cell_type": "code",
   "execution_count": 24,
   "metadata": {},
   "outputs": [
    {
     "data": {
      "text/plain": [
       "timestamp                   0\n",
       "apartment_type              0\n",
       "temperature                 0\n",
       "humidity                    0\n",
       "water_price                 0\n",
       "period_consumption_index    0\n",
       "income_level                0\n",
       "amenities                   0\n",
       "appliance_usage             0\n",
       "total_people                0\n",
       "dtype: int64"
      ]
     },
     "execution_count": 24,
     "metadata": {},
     "output_type": "execute_result"
    }
   ],
   "source": [
    "test_data.isna().sum()"
   ]
  },
  {
   "cell_type": "code",
   "execution_count": 25,
   "metadata": {},
   "outputs": [],
   "source": [
    "categorical_cols = ['apartment_type', 'income_level', 'amenities', 'appliance_usage']\n",
    "\n",
    "for col in categorical_cols:\n",
    "    data[col] = data[col].astype('category')\n",
    "    test_data[col] = test_data[col].astype('category')"
   ]
  },
  {
   "cell_type": "code",
   "execution_count": 26,
   "metadata": {},
   "outputs": [
    {
     "name": "stdout",
     "output_type": "stream",
     "text": [
      "train_data.shape is:  (12488, 10)\n",
      "test_data.shape is:  (819, 10)\n"
     ]
    }
   ],
   "source": [
    "train_data = data.loc[~(data['timestamp']>='2014-01-01')].reset_index(drop=True) \n",
    "val_data = data.loc[data['timestamp']>='2014-01-01'].reset_index(drop=True)\n",
    "\n",
    "train_data.drop(columns='timestamp', inplace=True)\n",
    "val_data.drop(columns='timestamp', inplace=True)\n",
    "\n",
    "print(f'train_data.shape is: ', train_data.shape)\n",
    "print(f'test_data.shape is: ', val_data.shape)"
   ]
  },
  {
   "cell_type": "code",
   "execution_count": 27,
   "metadata": {},
   "outputs": [],
   "source": [
    "X_train, y_train = train_data.drop(columns='water_consumption'), train_data[\"water_consumption\"]\n",
    "X_val, y_val = val_data.drop(columns='water_consumption'), val_data[\"water_consumption\"]"
   ]
  },
  {
   "cell_type": "code",
   "execution_count": 28,
   "metadata": {},
   "outputs": [],
   "source": [
    "feature_names = X_train.columns.tolist()\n",
    "total_people_idx = feature_names.index('total_people')\n",
    "period_consumption_idx = feature_names.index('period_consumption_index')\n"
   ]
  },
  {
   "cell_type": "code",
   "execution_count": 29,
   "metadata": {},
   "outputs": [],
   "source": [
    "regressors = {\n",
    "    \"Catboost Regressor\": CatBoostRegressor(random_state=42, loss_function='RMSE', cat_features=categorical_cols, has_time=True,\n",
    "                                            per_float_feature_quantization=[\n",
    "        f'{total_people_idx}:border_count=1024', \n",
    "        f'{period_consumption_idx}:border_count=1024'\n",
    "    ],)\n",
    "}\n",
    "\n",
    "metrics = {\n",
    "    \"model\" : [],\n",
    "    \"avg_rmse\" : [],\n",
    "    \"avg_r2_score\" : []\n",
    "}"
   ]
  },
  {
   "cell_type": "code",
   "execution_count": 30,
   "metadata": {},
   "outputs": [
    {
     "name": "stdout",
     "output_type": "stream",
     "text": [
      " Model: Catboost Regressor, Fold: 0\n",
      " Model: Catboost Regressor, Fold: 1\n",
      " Model: Catboost Regressor, Fold: 2\n",
      " Model: Catboost Regressor, Fold: 3\n",
      " Model: Catboost Regressor, Fold: 4\n"
     ]
    }
   ],
   "source": [
    "tscv = TimeSeriesSplit(n_splits=5)\n",
    "\n",
    "for model_name, regressor in regressors.items():\n",
    "    rmse = []\n",
    "    r2 = []\n",
    "\n",
    "    for fold, (train_index, val_index) in enumerate(tscv.split(X_train)):\n",
    "        print(f\" Model: {model_name}, Fold: {fold}\")\n",
    "\n",
    "        X_t, X_v = X_train.iloc[train_index, :], X_train.iloc[val_index,:]\n",
    "        y_t, y_v = y_train.iloc[train_index], y_train.iloc[val_index]\n",
    "        regressor.fit(X_t, y_t, \n",
    "                      eval_set=Pool(X_v, y_v, cat_features=categorical_cols),\n",
    "                      early_stopping_rounds=200,\n",
    "                      verbose=False)\n",
    "        \n",
    "        y_pred = regressor.predict(X_v)\n",
    "        \n",
    "        rmse.append(root_mean_squared_error(np.expm1(y_v), np.expm1(y_pred)))\n",
    "        r2.append(r2_score(np.expm1(y_v), np.expm1(y_pred)))\n",
    "        \n",
    "    metrics[\"model\"].append(model_name)\n",
    "    metrics[\"avg_rmse\"].append(np.mean(rmse))\n",
    "    metrics[\"avg_r2_score\"].append(np.mean(r2))"
   ]
  },
  {
   "cell_type": "code",
   "execution_count": 31,
   "metadata": {},
   "outputs": [
    {
     "data": {
      "text/html": [
       "<div>\n",
       "<style scoped>\n",
       "    .dataframe tbody tr th:only-of-type {\n",
       "        vertical-align: middle;\n",
       "    }\n",
       "\n",
       "    .dataframe tbody tr th {\n",
       "        vertical-align: top;\n",
       "    }\n",
       "\n",
       "    .dataframe thead th {\n",
       "        text-align: right;\n",
       "    }\n",
       "</style>\n",
       "<table border=\"1\" class=\"dataframe\">\n",
       "  <thead>\n",
       "    <tr style=\"text-align: right;\">\n",
       "      <th></th>\n",
       "      <th>model</th>\n",
       "      <th>avg_rmse</th>\n",
       "      <th>avg_r2_score</th>\n",
       "    </tr>\n",
       "  </thead>\n",
       "  <tbody>\n",
       "    <tr>\n",
       "      <th>0</th>\n",
       "      <td>Catboost Regressor</td>\n",
       "      <td>8.859273</td>\n",
       "      <td>0.984875</td>\n",
       "    </tr>\n",
       "  </tbody>\n",
       "</table>\n",
       "</div>"
      ],
      "text/plain": [
       "                model  avg_rmse  avg_r2_score\n",
       "0  Catboost Regressor  8.859273      0.984875"
      ]
     },
     "execution_count": 31,
     "metadata": {},
     "output_type": "execute_result"
    }
   ],
   "source": [
    "metrics_df = pd.DataFrame(metrics)\n",
    "metrics_df"
   ]
  },
  {
   "cell_type": "code",
   "execution_count": 32,
   "metadata": {},
   "outputs": [
    {
     "data": {
      "image/png": "[encoded data removed]",
      "text/plain": [
       "<Figure size 1000x800 with 1 Axes>"
      ]
     },
     "metadata": {},
     "output_type": "display_data"
    }
   ],
   "source": [
    "feature_imp = pd.DataFrame(sorted(zip(regressor.feature_importances_, X_t.columns), reverse=True)[:20], columns=['Value','Feature'])\n",
    "plt.figure(figsize=(10,8))\n",
    "sns.barplot(x=\"Value\", y=\"Feature\", data=feature_imp.sort_values(by=\"Value\", ascending=False))\n",
    "plt.title('Cat Boosting Feature Importances')\n",
    "plt.tight_layout()\n",
    "plt.show()"
   ]
  },
  {
   "cell_type": "markdown",
   "metadata": {},
   "source": [
    "### Hyperparameter tuning using Optuna"
   ]
  },
  {
   "cell_type": "code",
   "execution_count": null,
   "metadata": {},
   "outputs": [],
   "source": [
    "def objective(trial, X, y):\n",
    "    feature_names = X.columns.tolist()\n",
    "    total_people_idx = feature_names.index('total_people')\n",
    "    period_consumption_idx = feature_names.index('period_consumption_index')\n",
    "    \n",
    "    # Consolidate parameter suggestions\n",
    "    params = {\n",
    "        \"iterations\": trial.suggest_int(\"iterations\", 100, 10000),\n",
    "        \"learning_rate\": trial.suggest_float(\"learning_rate\", 1e-2, 0.3, log=True),\n",
    "        \"depth\": trial.suggest_int(\"depth\", 1, 4),\n",
    "        \"l2_leaf_reg\": trial.suggest_float(\"l2_leaf_reg\", 1e-5, 10.0, log=True),\n",
    "        \"random_strength\": trial.suggest_float(\"random_strength\", 1e-5, 10.0, log=True),\n",
    "        \"bootstrap_type\": trial.suggest_categorical(\"bootstrap_type\", [\"Bayesian\", \"Bernoulli\", \"MVS\"]),\n",
    "        \"colsample_bylevel\": trial.suggest_float(\"colsample_bylevel\", 0.5, 1.0),\n",
    "        \"grow_policy\": trial.suggest_categorical(\"grow_policy\", [\"SymmetricTree\", \"Lossguide\", \"Depthwise\"]),\n",
    "        \"border_count\": trial.suggest_int(\"border_count\", 100, 255),\n",
    "        \"has_time\": True,\n",
    "        \"per_float_feature_quantization\": [\n",
    "            f'{total_people_idx}:border_count=1024', \n",
    "            f'{period_consumption_idx}:border_count=1024'\n",
    "        ],\n",
    "        \"random_state\": 42,\n",
    "        \"verbose\": 0,\n",
    "        \"task_type\": \"CPU\",\n",
    "        \"loss_function\": \"RMSE\",\n",
    "        \"eval_metric\": \"RMSE\",\n",
    "    }\n",
    "\n",
    "    # Conditional parameters\n",
    "    if params[\"bootstrap_type\"] == \"Bayesian\":\n",
    "        params[\"bagging_temperature\"] = trial.suggest_float(\"bagging_temperature\", 0.01, 10.0)\n",
    "    if params[\"bootstrap_type\"] in [\"Bernoulli\", \"MVS\"]:\n",
    "        params[\"subsample\"] = trial.suggest_float(\"subsample\", 0.25, 1.0)\n",
    "    if params[\"grow_policy\"] != \"SymmetricTree\":\n",
    "        params[\"min_data_in_leaf\"] = trial.suggest_int(\"min_data_in_leaf\", 1, 200)\n",
    "    if params[\"grow_policy\"] == \"Lossguide\":\n",
    "        params[\"max_leaves\"] = trial.suggest_int(\"max_leaves\", 2, 256)\n",
    "\n",
    "    # Time series cross-validation\n",
    "    tscv = TimeSeriesSplit(n_splits=5)\n",
    "    scores = []\n",
    "\n",
    "    for fold, (train_idx, val_idx) in enumerate(tscv.split(X)):\n",
    "        X_train, X_val = X.iloc[train_idx], X.iloc[val_idx]\n",
    "        y_train, y_val = y.iloc[train_idx], y.iloc[val_idx]\n",
    "\n",
    "        model = CatBoostRegressor(**params, cat_features=categorical_cols)\n",
    "        pruning_callback = CatBoostPruningCallback(trial, \"RMSE\")\n",
    "        \n",
    "        model.fit(\n",
    "            X_train, y_train,\n",
    "            eval_set=[(X_val, y_val)],\n",
    "            early_stopping_rounds=200,\n",
    "            callbacks=[pruning_callback],\n",
    "            use_best_model=True,\n",
    "            verbose=False\n",
    "        )\n",
    "        pruning_callback.check_pruned()\n",
    "        \n",
    "        y_pred = model.predict(X_val)\n",
    "        \n",
    "        actual = np.expm1(y_val) if y_train.min() >= 0 else y_val\n",
    "        y_pred = np.expm1(y_pred) if y_train.min() >= 0 else y_pred\n",
    "        \n",
    "        fold_score = max(0, 100 - root_mean_squared_error(actual, y_pred))\n",
    "        scores.append(fold_score)\n",
    "\n",
    "    return np.mean(scores)"
   ]
  },
  {
   "cell_type": "code",
   "execution_count": null,
   "metadata": {},
   "outputs": [],
   "source": [
    "def tune_catboost_hyperparameters(X, y, n_trials=100):\n",
    "    study = optuna.create_study(direction=\"maximize\", pruner=optuna.pruners.MedianPruner(n_warmup_steps=10))\n",
    "    study.optimize(lambda trial: objective(trial, X, y), n_trials=n_trials)\n",
    "\n",
    "    print(\"Number of finished trials:\", len(study.trials))\n",
    "    print(\"Best trial:\", study.best_trial.number)\n",
    "    print(\"Highest score value: {:.4f}\".format(study.best_trial.value))\n",
    "    print(\"Best Params:\")\n",
    "    for key, value in study.best_trial.params.items():\n",
    "        print(f\"    {key}: {value}\")\n",
    "\n",
    "    return study.best_params\n",
    "\n",
    "data = data.drop(columns='timestamp')\n",
    "test_data = test_data.drop(columns='timestamp')\n",
    "\n",
    "X = data.drop(columns='water_consumption')\n",
    "y = data[\"water_consumption\"]\n",
    "# Usage\n",
    "best_params = tune_catboost_hyperparameters(X, y, n_trials=150)"
   ]
  },
  {
   "cell_type": "code",
   "execution_count": 33,
   "metadata": {},
   "outputs": [],
   "source": [
    "best_params = {'iterations': 5845,\n",
    " 'learning_rate': 0.07218403514403844,\n",
    " 'depth': 2,\n",
    " 'l2_leaf_reg': 0.0006323189259695252,\n",
    " 'random_strength': 2.214812489118913e-05,\n",
    " 'bootstrap_type': 'Bernoulli',\n",
    " 'colsample_bylevel': 0.9835016389682567,\n",
    " 'grow_policy': 'SymmetricTree',\n",
    " 'border_count': 112,\n",
    " 'subsample': 0.8787443670199477}"
   ]
  },
  {
   "cell_type": "markdown",
   "metadata": {},
   "source": [
    "### Final model and prediciton on test set"
   ]
  },
  {
   "cell_type": "code",
   "execution_count": 34,
   "metadata": {},
   "outputs": [
    {
     "name": "stdout",
     "output_type": "stream",
     "text": [
      "RMSE 6.796659401601667\n",
      "RMSE 9.091900368630355\n",
      "RMSE 8.652405074868462\n",
      "RMSE 7.663072888803408\n",
      "RMSE 7.592424260123405\n",
      "RMSE 8.399637268398218\n",
      "RMSE 7.555086565858431\n",
      "RMSE 5.758663303033501\n",
      "RMSE 9.03981347965686\n",
      "RMSE 6.44740581765111\n"
     ]
    }
   ],
   "source": [
    "errcat = []\n",
    "y_pred_totcat = []\n",
    "\n",
    "data = data.drop(columns='timestamp')\n",
    "test_data = test_data.drop(columns='timestamp')\n",
    "X = data.drop(columns='water_consumption')\n",
    "y = data[\"water_consumption\"]\n",
    "\n",
    "feature_names = X.columns.tolist()\n",
    "total_people_idx = feature_names.index('total_people')\n",
    "period_consumption_idx = feature_names.index('period_consumption_index')\n",
    "\n",
    "fold = KFold(n_splits=10, shuffle=False, random_state=None)\n",
    "\n",
    "for train_ind, test_ind in fold.split(X):\n",
    "    X_train, X_test = X.loc[train_ind], X.loc[test_ind]\n",
    "    y_train, y_test = y[train_ind], y[test_ind]\n",
    "    \n",
    "    cat= CatBoostRegressor(**best_params, loss_function='RMSE', random_state=121, cat_features=categorical_cols,\n",
    "                            has_time=True, per_float_feature_quantization=[\n",
    "                            f'{total_people_idx}:border_count=1024', \n",
    "                            f'{period_consumption_idx}:border_count=1024'\n",
    "                        ])\n",
    "    cat.fit(X_train, y_train,verbose=False)\n",
    "    y_pred = cat.predict(X_test)\n",
    "\n",
    "    print('RMSE', root_mean_squared_error(np.expm1(y_test), np.expm1(y_pred)))\n",
    "\n",
    "    errcat.append(root_mean_squared_error(np.expm1(y_test), np.expm1(y_pred)))\n",
    "    p = cat.predict(test_data)\n",
    "    y_pred_totcat.append(p)\n",
    "    "
   ]
  },
  {
   "cell_type": "code",
   "execution_count": 35,
   "metadata": {},
   "outputs": [
    {
     "data": {
      "text/plain": [
       "7.699706842862542"
      ]
     },
     "execution_count": 35,
     "metadata": {},
     "output_type": "execute_result"
    }
   ],
   "source": [
    "np.mean(errcat)"
   ]
  },
  {
   "cell_type": "code",
   "execution_count": 36,
   "metadata": {},
   "outputs": [
    {
     "data": {
      "image/png": "[encoded data removed]",
      "text/plain": [
       "<Figure size 1000x800 with 1 Axes>"
      ]
     },
     "metadata": {},
     "output_type": "display_data"
    }
   ],
   "source": [
    "feature_imp = pd.DataFrame(sorted(zip(cat.feature_importances_, X.columns), reverse=True)[:20], columns=['Value','Feature'])\n",
    "plt.figure(figsize=(10,8))\n",
    "sns.barplot(x=\"Value\", y=\"Feature\", data=feature_imp.sort_values(by=\"Value\", ascending=False))\n",
    "plt.title('Cat Boost Feature Importances')\n",
    "plt.tight_layout()\n",
    "plt.show()"
   ]
  },
  {
   "cell_type": "code",
   "execution_count": 37,
   "metadata": {},
   "outputs": [
    {
     "data": {
      "text/plain": [
       "array([295.62840214, 190.22410749,  78.63028727, ..., 261.36138997,\n",
       "       178.82275059,  67.89197922])"
      ]
     },
     "execution_count": 37,
     "metadata": {},
     "output_type": "execute_result"
    }
   ],
   "source": [
    "values = np.expm1(np.mean(y_pred_totcat,0))\n",
    "values"
   ]
  },
  {
   "cell_type": "code",
   "execution_count": 38,
   "metadata": {},
   "outputs": [
    {
     "data": {
      "text/html": [
       "<div>\n",
       "<style scoped>\n",
       "    .dataframe tbody tr th:only-of-type {\n",
       "        vertical-align: middle;\n",
       "    }\n",
       "\n",
       "    .dataframe tbody tr th {\n",
       "        vertical-align: top;\n",
       "    }\n",
       "\n",
       "    .dataframe thead th {\n",
       "        text-align: right;\n",
       "    }\n",
       "</style>\n",
       "<table border=\"1\" class=\"dataframe\">\n",
       "  <thead>\n",
       "    <tr style=\"text-align: right;\">\n",
       "      <th></th>\n",
       "      <th>Timestamp</th>\n",
       "      <th>Water_Consumption</th>\n",
       "    </tr>\n",
       "  </thead>\n",
       "  <tbody>\n",
       "    <tr>\n",
       "      <th>0</th>\n",
       "      <td>11/10/2014 16</td>\n",
       "      <td>295.628402</td>\n",
       "    </tr>\n",
       "    <tr>\n",
       "      <th>1</th>\n",
       "      <td>12/10/2014 00</td>\n",
       "      <td>190.224107</td>\n",
       "    </tr>\n",
       "    <tr>\n",
       "      <th>2</th>\n",
       "      <td>12/10/2014 08</td>\n",
       "      <td>78.630287</td>\n",
       "    </tr>\n",
       "    <tr>\n",
       "      <th>3</th>\n",
       "      <td>12/10/2014 16</td>\n",
       "      <td>121.402814</td>\n",
       "    </tr>\n",
       "    <tr>\n",
       "      <th>4</th>\n",
       "      <td>13/10/2014 00</td>\n",
       "      <td>125.592964</td>\n",
       "    </tr>\n",
       "    <tr>\n",
       "      <th>...</th>\n",
       "      <td>...</td>\n",
       "      <td>...</td>\n",
       "    </tr>\n",
       "    <tr>\n",
       "      <th>5995</th>\n",
       "      <td>01/04/2020 00</td>\n",
       "      <td>235.469350</td>\n",
       "    </tr>\n",
       "    <tr>\n",
       "      <th>5996</th>\n",
       "      <td>01/04/2020 08</td>\n",
       "      <td>78.392657</td>\n",
       "    </tr>\n",
       "    <tr>\n",
       "      <th>5997</th>\n",
       "      <td>01/04/2020 16</td>\n",
       "      <td>261.361390</td>\n",
       "    </tr>\n",
       "    <tr>\n",
       "      <th>5998</th>\n",
       "      <td>02/04/2020 00</td>\n",
       "      <td>178.822751</td>\n",
       "    </tr>\n",
       "    <tr>\n",
       "      <th>5999</th>\n",
       "      <td>02/04/2020 08</td>\n",
       "      <td>67.891979</td>\n",
       "    </tr>\n",
       "  </tbody>\n",
       "</table>\n",
       "<p>6000 rows × 2 columns</p>\n",
       "</div>"
      ],
      "text/plain": [
       "          Timestamp  Water_Consumption\n",
       "0     11/10/2014 16         295.628402\n",
       "1     12/10/2014 00         190.224107\n",
       "2     12/10/2014 08          78.630287\n",
       "3     12/10/2014 16         121.402814\n",
       "4     13/10/2014 00         125.592964\n",
       "...             ...                ...\n",
       "5995  01/04/2020 00         235.469350\n",
       "5996  01/04/2020 08          78.392657\n",
       "5997  01/04/2020 16         261.361390\n",
       "5998  02/04/2020 00         178.822751\n",
       "5999  02/04/2020 08          67.891979\n",
       "\n",
       "[6000 rows x 2 columns]"
      ]
     },
     "execution_count": 38,
     "metadata": {},
     "output_type": "execute_result"
    }
   ],
   "source": [
    "final_df = pd.DataFrame({\"Timestamp\": test_index, \"Water_Consumption\": values})\n",
    "final_df"
   ]
  },
  {
   "cell_type": "code",
   "execution_count": 39,
   "metadata": {},
   "outputs": [],
   "source": [
    "final_df.to_csv('prediction_final.csv', header=True, index=False)"
   ]
  },
  {
   "cell_type": "code",
   "execution_count": null,
   "metadata": {},
   "outputs": [],
   "source": []
  },
  {
   "cell_type": "code",
   "execution_count": null,
   "metadata": {},
   "outputs": [],
   "source": []
  },
  {
   "cell_type": "code",
   "execution_count": null,
   "metadata": {},
   "outputs": [],
   "source": []
  },
  {
   "cell_type": "code",
   "execution_count": null,
   "metadata": {},
   "outputs": [],
   "source": []
  },
  {
   "cell_type": "code",
   "execution_count": null,
   "metadata": {},
   "outputs": [],
   "source": []
  }
 ],
 "metadata": {
  "kernelspec": {
   "display_name": ".venv",
   "language": "python",
   "name": "python3"
  },
  "language_info": {
   "codemirror_mode": {
    "name": "ipython",
    "version": 3
   },
   "file_extension": ".py",
   "mimetype": "text/x-python",
   "name": "python",
   "nbconvert_exporter": "python",
   "pygments_lexer": "ipython3",
   "version": "3.10.13"
  }
 },
 "nbformat": 4,
 "nbformat_minor": 2
}
