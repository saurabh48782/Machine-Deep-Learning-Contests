{
  "nbformat": 4,
  "nbformat_minor": 0,
  "metadata": {
    "accelerator": "GPU",
    "colab": {
      "name": "Final_Price_Prediction.ipynb",
      "provenance": [],
      "collapsed_sections": [
        "kf5C2MwcFfvV",
        "9o9lCwbQN9qq"
      ]
    },
    "kernelspec": {
      "display_name": "Python 3",
      "language": "python",
      "name": "python3"
    },
    "language_info": {
      "codemirror_mode": {
        "name": "ipython",
        "version": 3
      },
      "file_extension": ".py",
      "mimetype": "text/x-python",
      "name": "python",
      "nbconvert_exporter": "python",
      "pygments_lexer": "ipython3",
      "version": "3.7.8"
    }
  },
  "cells": [
    {
      "cell_type": "code",
      "metadata": {
        "colab": {
          "base_uri": "https://localhost:8080/",
          "height": 1000
        },
        "id": "iyipL7fPGbFI",
        "outputId": "ded7d9a0-4389-4e72-cb72-ed76e8a73432"
      },
      "source": [
        "!pip install pywedge"
      ],
      "execution_count": 1,
      "outputs": [
        {
          "output_type": "stream",
          "text": [
            "Collecting pywedge\n",
            "  Downloading https://files.pythonhosted.org/packages/2b/f0/13536cc750c7024031a83f562aef061783a48dfdb37c2bdf91e38f4434e5/pywedge-0.5-py3-none-any.whl\n",
            "Requirement already satisfied: xgboost in /usr/local/lib/python3.6/dist-packages (from pywedge) (0.90)\n",
            "Requirement already satisfied: imbalanced-learn in /usr/local/lib/python3.6/dist-packages (from pywedge) (0.4.3)\n",
            "Collecting voila\n",
            "\u001b[?25l  Downloading https://files.pythonhosted.org/packages/50/7d/ef470f3d3c574162bb8705b264f4cb47eac8c923f6bf1e37283f871ead6a/voila-0.2.4-py3-none-any.whl (1.9MB)\n",
            "\u001b[K     |████████████████████████████████| 1.9MB 9.2MB/s \n",
            "\u001b[?25hRequirement already satisfied: scikit-learn in /usr/local/lib/python3.6/dist-packages (from pywedge) (0.22.2.post1)\n",
            "Requirement already satisfied: numpy in /usr/local/lib/python3.6/dist-packages (from pywedge) (1.18.5)\n",
            "Collecting catboost>=0.24\n",
            "\u001b[?25l  Downloading https://files.pythonhosted.org/packages/7e/c1/c1c4707013f9e2f8a96899dd3a87f66c9167d6d776a6dc8fe7ec8678d446/catboost-0.24.3-cp36-none-manylinux1_x86_64.whl (66.3MB)\n",
            "\u001b[K     |████████████████████████████████| 66.3MB 43kB/s \n",
            "\u001b[?25hRequirement already satisfied: plotly in /usr/local/lib/python3.6/dist-packages (from pywedge) (4.4.1)\n",
            "Requirement already satisfied: ipywidgets in /usr/local/lib/python3.6/dist-packages (from pywedge) (7.5.1)\n",
            "Collecting voila-gridstack\n",
            "\u001b[?25l  Downloading https://files.pythonhosted.org/packages/48/18/fe4919c306ed3bbc9d3ee7988d973f47ad4f8464a0615bd376808d60780b/voila_gridstack-0.0.12-py2.py3-none-any.whl (134kB)\n",
            "\u001b[K     |████████████████████████████████| 143kB 51.5MB/s \n",
            "\u001b[?25hRequirement already satisfied: pandas in /usr/local/lib/python3.6/dist-packages (from pywedge) (1.1.4)\n",
            "Requirement already satisfied: jupyter in /usr/local/lib/python3.6/dist-packages (from pywedge) (1.0.0)\n",
            "Requirement already satisfied: scipy in /usr/local/lib/python3.6/dist-packages (from xgboost->pywedge) (1.4.1)\n",
            "Requirement already satisfied: nbclient<0.6,>=0.4.0 in /usr/local/lib/python3.6/dist-packages (from voila->pywedge) (0.5.1)\n",
            "Collecting jupyter-client<7,>=6.1.3\n",
            "\u001b[?25l  Downloading https://files.pythonhosted.org/packages/dc/41/9fa443d5ae8907dd8f7d12146cb0092dc053afd67b5b57e7e8786a328547/jupyter_client-6.1.7-py3-none-any.whl (108kB)\n",
            "\u001b[K     |████████████████████████████████| 112kB 61.4MB/s \n",
            "\u001b[?25hCollecting jupyter-server<2.0.0,>=0.3.0\n",
            "\u001b[?25l  Downloading https://files.pythonhosted.org/packages/84/5d/07a43d43e6f89a26344de2b7f8bf2ab6569e5d6b9db6bb3b1147aaf7bb26/jupyter_server-1.0.8-py3-none-any.whl (223kB)\n",
            "\u001b[K     |████████████████████████████████| 225kB 58.3MB/s \n",
            "\u001b[?25hCollecting nbconvert<7,>=6.0.0\n",
            "\u001b[?25l  Downloading https://files.pythonhosted.org/packages/13/2f/acbe7006548f3914456ee47f97a2033b1b2f3daf921b12ac94105d87c163/nbconvert-6.0.7-py3-none-any.whl (552kB)\n",
            "\u001b[K     |████████████████████████████████| 552kB 48.7MB/s \n",
            "\u001b[?25hRequirement already satisfied: joblib>=0.11 in /usr/local/lib/python3.6/dist-packages (from scikit-learn->pywedge) (0.17.0)\n",
            "Requirement already satisfied: graphviz in /usr/local/lib/python3.6/dist-packages (from catboost>=0.24->pywedge) (0.10.1)\n",
            "Requirement already satisfied: six in /usr/local/lib/python3.6/dist-packages (from catboost>=0.24->pywedge) (1.15.0)\n",
            "Requirement already satisfied: matplotlib in /usr/local/lib/python3.6/dist-packages (from catboost>=0.24->pywedge) (3.2.2)\n",
            "Requirement already satisfied: retrying>=1.3.3 in /usr/local/lib/python3.6/dist-packages (from plotly->pywedge) (1.3.3)\n",
            "Requirement already satisfied: nbformat>=4.2.0 in /usr/local/lib/python3.6/dist-packages (from ipywidgets->pywedge) (5.0.8)\n",
            "Requirement already satisfied: widgetsnbextension~=3.5.0 in /usr/local/lib/python3.6/dist-packages (from ipywidgets->pywedge) (3.5.1)\n",
            "Requirement already satisfied: ipykernel>=4.5.1 in /usr/local/lib/python3.6/dist-packages (from ipywidgets->pywedge) (4.10.1)\n",
            "Requirement already satisfied: ipython>=4.0.0; python_version >= \"3.3\" in /usr/local/lib/python3.6/dist-packages (from ipywidgets->pywedge) (5.5.0)\n",
            "Requirement already satisfied: traitlets>=4.3.1 in /usr/local/lib/python3.6/dist-packages (from ipywidgets->pywedge) (4.3.3)\n",
            "Requirement already satisfied: pytz>=2017.2 in /usr/local/lib/python3.6/dist-packages (from pandas->pywedge) (2018.9)\n",
            "Requirement already satisfied: python-dateutil>=2.7.3 in /usr/local/lib/python3.6/dist-packages (from pandas->pywedge) (2.8.1)\n",
            "Requirement already satisfied: jupyter-console in /usr/local/lib/python3.6/dist-packages (from jupyter->pywedge) (5.2.0)\n",
            "Requirement already satisfied: notebook in /usr/local/lib/python3.6/dist-packages (from jupyter->pywedge) (5.3.1)\n",
            "Requirement already satisfied: qtconsole in /usr/local/lib/python3.6/dist-packages (from jupyter->pywedge) (4.7.7)\n",
            "Requirement already satisfied: async-generator in /usr/local/lib/python3.6/dist-packages (from nbclient<0.6,>=0.4.0->voila->pywedge) (1.10)\n",
            "Requirement already satisfied: nest-asyncio in /usr/local/lib/python3.6/dist-packages (from nbclient<0.6,>=0.4.0->voila->pywedge) (1.4.3)\n",
            "Requirement already satisfied: pyzmq>=13 in /usr/local/lib/python3.6/dist-packages (from jupyter-client<7,>=6.1.3->voila->pywedge) (20.0.0)\n",
            "Requirement already satisfied: tornado>=4.1 in /usr/local/lib/python3.6/dist-packages (from jupyter-client<7,>=6.1.3->voila->pywedge) (5.1.1)\n",
            "Requirement already satisfied: jupyter-core>=4.6.0 in /usr/local/lib/python3.6/dist-packages (from jupyter-client<7,>=6.1.3->voila->pywedge) (4.7.0)\n",
            "Requirement already satisfied: ipython-genutils in /usr/local/lib/python3.6/dist-packages (from jupyter-server<2.0.0,>=0.3.0->voila->pywedge) (0.2.0)\n",
            "Requirement already satisfied: jinja2 in /usr/local/lib/python3.6/dist-packages (from jupyter-server<2.0.0,>=0.3.0->voila->pywedge) (2.11.2)\n",
            "Requirement already satisfied: terminado>=0.8.3 in /usr/local/lib/python3.6/dist-packages (from jupyter-server<2.0.0,>=0.3.0->voila->pywedge) (0.9.1)\n",
            "Requirement already satisfied: Send2Trash in /usr/local/lib/python3.6/dist-packages (from jupyter-server<2.0.0,>=0.3.0->voila->pywedge) (1.5.0)\n",
            "Requirement already satisfied: prometheus-client in /usr/local/lib/python3.6/dist-packages (from jupyter-server<2.0.0,>=0.3.0->voila->pywedge) (0.9.0)\n",
            "Requirement already satisfied: defusedxml in /usr/local/lib/python3.6/dist-packages (from nbconvert<7,>=6.0.0->voila->pywedge) (0.6.0)\n",
            "Requirement already satisfied: bleach in /usr/local/lib/python3.6/dist-packages (from nbconvert<7,>=6.0.0->voila->pywedge) (3.2.1)\n",
            "Requirement already satisfied: mistune<2,>=0.8.1 in /usr/local/lib/python3.6/dist-packages (from nbconvert<7,>=6.0.0->voila->pywedge) (0.8.4)\n",
            "Requirement already satisfied: entrypoints>=0.2.2 in /usr/local/lib/python3.6/dist-packages (from nbconvert<7,>=6.0.0->voila->pywedge) (0.3)\n",
            "Requirement already satisfied: pandocfilters>=1.4.1 in /usr/local/lib/python3.6/dist-packages (from nbconvert<7,>=6.0.0->voila->pywedge) (1.4.3)\n",
            "Requirement already satisfied: testpath in /usr/local/lib/python3.6/dist-packages (from nbconvert<7,>=6.0.0->voila->pywedge) (0.4.4)\n",
            "Requirement already satisfied: pygments>=2.4.1 in /usr/local/lib/python3.6/dist-packages (from nbconvert<7,>=6.0.0->voila->pywedge) (2.6.1)\n",
            "Requirement already satisfied: jupyterlab-pygments in /usr/local/lib/python3.6/dist-packages (from nbconvert<7,>=6.0.0->voila->pywedge) (0.1.2)\n",
            "Requirement already satisfied: kiwisolver>=1.0.1 in /usr/local/lib/python3.6/dist-packages (from matplotlib->catboost>=0.24->pywedge) (1.3.1)\n",
            "Requirement already satisfied: pyparsing!=2.0.4,!=2.1.2,!=2.1.6,>=2.0.1 in /usr/local/lib/python3.6/dist-packages (from matplotlib->catboost>=0.24->pywedge) (2.4.7)\n",
            "Requirement already satisfied: cycler>=0.10 in /usr/local/lib/python3.6/dist-packages (from matplotlib->catboost>=0.24->pywedge) (0.10.0)\n",
            "Requirement already satisfied: jsonschema!=2.5.0,>=2.4 in /usr/local/lib/python3.6/dist-packages (from nbformat>=4.2.0->ipywidgets->pywedge) (2.6.0)\n",
            "Requirement already satisfied: setuptools>=18.5 in /usr/local/lib/python3.6/dist-packages (from ipython>=4.0.0; python_version >= \"3.3\"->ipywidgets->pywedge) (50.3.2)\n",
            "Requirement already satisfied: pexpect; sys_platform != \"win32\" in /usr/local/lib/python3.6/dist-packages (from ipython>=4.0.0; python_version >= \"3.3\"->ipywidgets->pywedge) (4.8.0)\n",
            "Requirement already satisfied: pickleshare in /usr/local/lib/python3.6/dist-packages (from ipython>=4.0.0; python_version >= \"3.3\"->ipywidgets->pywedge) (0.7.5)\n",
            "Requirement already satisfied: decorator in /usr/local/lib/python3.6/dist-packages (from ipython>=4.0.0; python_version >= \"3.3\"->ipywidgets->pywedge) (4.4.2)\n",
            "Requirement already satisfied: simplegeneric>0.8 in /usr/local/lib/python3.6/dist-packages (from ipython>=4.0.0; python_version >= \"3.3\"->ipywidgets->pywedge) (0.8.1)\n",
            "Requirement already satisfied: prompt-toolkit<2.0.0,>=1.0.4 in /usr/local/lib/python3.6/dist-packages (from ipython>=4.0.0; python_version >= \"3.3\"->ipywidgets->pywedge) (1.0.18)\n",
            "Requirement already satisfied: qtpy in /usr/local/lib/python3.6/dist-packages (from qtconsole->jupyter->pywedge) (1.9.0)\n",
            "Requirement already satisfied: MarkupSafe>=0.23 in /usr/local/lib/python3.6/dist-packages (from jinja2->jupyter-server<2.0.0,>=0.3.0->voila->pywedge) (1.1.1)\n",
            "Requirement already satisfied: ptyprocess; os_name != \"nt\" in /usr/local/lib/python3.6/dist-packages (from terminado>=0.8.3->jupyter-server<2.0.0,>=0.3.0->voila->pywedge) (0.6.0)\n",
            "Requirement already satisfied: packaging in /usr/local/lib/python3.6/dist-packages (from bleach->nbconvert<7,>=6.0.0->voila->pywedge) (20.4)\n",
            "Requirement already satisfied: webencodings in /usr/local/lib/python3.6/dist-packages (from bleach->nbconvert<7,>=6.0.0->voila->pywedge) (0.5.1)\n",
            "Requirement already satisfied: wcwidth in /usr/local/lib/python3.6/dist-packages (from prompt-toolkit<2.0.0,>=1.0.4->ipython>=4.0.0; python_version >= \"3.3\"->ipywidgets->pywedge) (0.2.5)\n",
            "Installing collected packages: jupyter-client, nbconvert, jupyter-server, voila, catboost, voila-gridstack, pywedge\n",
            "  Found existing installation: jupyter-client 5.3.5\n",
            "    Uninstalling jupyter-client-5.3.5:\n",
            "      Successfully uninstalled jupyter-client-5.3.5\n",
            "  Found existing installation: nbconvert 5.6.1\n",
            "    Uninstalling nbconvert-5.6.1:\n",
            "      Successfully uninstalled nbconvert-5.6.1\n",
            "Successfully installed catboost-0.24.3 jupyter-client-6.1.7 jupyter-server-1.0.8 nbconvert-6.0.7 pywedge-0.5 voila-0.2.4 voila-gridstack-0.0.12\n"
          ],
          "name": "stdout"
        },
        {
          "output_type": "display_data",
          "data": {
            "application/vnd.colab-display-data+json": {
              "pip_warning": {
                "packages": [
                  "jupyter_client"
                ]
              }
            }
          },
          "metadata": {
            "tags": []
          }
        }
      ]
    },
    {
      "cell_type": "code",
      "metadata": {
        "colab": {
          "base_uri": "https://localhost:8080/"
        },
        "id": "4A3BdBFVFpem",
        "outputId": "b3b3164f-ab30-4441-c0f6-a888b71a1f64"
      },
      "source": [
        "from google.colab import drive\n",
        "drive.mount('/content/drive')"
      ],
      "execution_count": 1,
      "outputs": [
        {
          "output_type": "stream",
          "text": [
            "Mounted at /content/drive\n"
          ],
          "name": "stdout"
        }
      ]
    },
    {
      "cell_type": "markdown",
      "metadata": {
        "id": "Zild4ADxyG4b"
      },
      "source": [
        "#### Importing libraries"
      ]
    },
    {
      "cell_type": "code",
      "metadata": {
        "id": "m5KHHbu3FfvQ"
      },
      "source": [
        "import numpy as np\n",
        "import pandas as pd\n",
        "import warnings\n",
        "warnings.filterwarnings(\"ignore\")\n",
        "from sklearn.model_selection import train_test_split\n",
        "from sklearn.metrics import mean_squared_log_error\n",
        "from sklearn.metrics import mean_squared_error\n",
        "from sklearn.model_selection import GridSearchCV"
      ],
      "execution_count": 18,
      "outputs": []
    },
    {
      "cell_type": "markdown",
      "metadata": {
        "id": "YLS9Ij6WFfvR"
      },
      "source": [
        "### Testing Dataset"
      ]
    },
    {
      "cell_type": "code",
      "metadata": {
        "id": "O92wH0FdFfvR"
      },
      "source": [
        "test_data = pd.read_csv(\"/content/drive/MyDrive/Colab Notebooks/test.csv\")"
      ],
      "execution_count": 26,
      "outputs": []
    },
    {
      "cell_type": "code",
      "metadata": {
        "id": "tWNFwksYFfvR"
      },
      "source": [
        "pdf = test_data['Product_id'].values"
      ],
      "execution_count": 27,
      "outputs": []
    },
    {
      "cell_type": "markdown",
      "metadata": {
        "id": "El6CyBW6FfvR"
      },
      "source": [
        "### Training Dataset"
      ]
    },
    {
      "cell_type": "code",
      "metadata": {
        "colab": {
          "base_uri": "https://localhost:8080/"
        },
        "id": "Pl3ujnxNFfvS",
        "outputId": "4d522336-0e34-4a95-ccbd-2fa2aad7b6b0"
      },
      "source": [
        "data = pd.read_csv(\"/content/drive/MyDrive/Colab Notebooks/train.csv\")\n",
        "data.shape"
      ],
      "execution_count": 28,
      "outputs": [
        {
          "output_type": "execute_result",
          "data": {
            "text/plain": [
              "(6368, 15)"
            ]
          },
          "metadata": {
            "tags": []
          },
          "execution_count": 28
        }
      ]
    },
    {
      "cell_type": "code",
      "metadata": {
        "colab": {
          "base_uri": "https://localhost:8080/",
          "height": 0
        },
        "id": "7DGVjWl_FfvU",
        "outputId": "7fb835d9-b92d-4d8a-df7a-d8ab79e2c4dc"
      },
      "source": [
        "data.head()"
      ],
      "execution_count": 29,
      "outputs": [
        {
          "output_type": "execute_result",
          "data": {
            "text/html": [
              "<div>\n",
              "<style scoped>\n",
              "    .dataframe tbody tr th:only-of-type {\n",
              "        vertical-align: middle;\n",
              "    }\n",
              "\n",
              "    .dataframe tbody tr th {\n",
              "        vertical-align: top;\n",
              "    }\n",
              "\n",
              "    .dataframe thead th {\n",
              "        text-align: right;\n",
              "    }\n",
              "</style>\n",
              "<table border=\"1\" class=\"dataframe\">\n",
              "  <thead>\n",
              "    <tr style=\"text-align: right;\">\n",
              "      <th></th>\n",
              "      <th>Product_id</th>\n",
              "      <th>Stall_no</th>\n",
              "      <th>instock_date</th>\n",
              "      <th>Market_Category</th>\n",
              "      <th>Customer_name</th>\n",
              "      <th>Loyalty_customer</th>\n",
              "      <th>Product_Category</th>\n",
              "      <th>Grade</th>\n",
              "      <th>Demand</th>\n",
              "      <th>Discount_avail</th>\n",
              "      <th>charges_1</th>\n",
              "      <th>charges_2 (%)</th>\n",
              "      <th>Minimum_price</th>\n",
              "      <th>Maximum_price</th>\n",
              "      <th>Selling_Price</th>\n",
              "    </tr>\n",
              "  </thead>\n",
              "  <tbody>\n",
              "    <tr>\n",
              "      <th>0</th>\n",
              "      <td>BRAE2NF6JA5GUEXG</td>\n",
              "      <td>37.0</td>\n",
              "      <td>2015-08-22 18:36:12.000</td>\n",
              "      <td>2</td>\n",
              "      <td>Lillyann</td>\n",
              "      <td>Yes</td>\n",
              "      <td>Fashion</td>\n",
              "      <td>1</td>\n",
              "      <td>68</td>\n",
              "      <td>0.0</td>\n",
              "      <td>376.0</td>\n",
              "      <td>11.0</td>\n",
              "      <td>2983.0</td>\n",
              "      <td>4713.0</td>\n",
              "      <td>4185.947700</td>\n",
              "    </tr>\n",
              "    <tr>\n",
              "      <th>1</th>\n",
              "      <td>TUNE8SFB6RJN2HSD</td>\n",
              "      <td>38.0</td>\n",
              "      <td>2016-03-27 21:19:13.000</td>\n",
              "      <td>24</td>\n",
              "      <td>Klynn</td>\n",
              "      <td>Yes</td>\n",
              "      <td>Fashion</td>\n",
              "      <td>0</td>\n",
              "      <td>51</td>\n",
              "      <td>0.0</td>\n",
              "      <td>397.0</td>\n",
              "      <td>12.0</td>\n",
              "      <td>7495.0</td>\n",
              "      <td>10352.0</td>\n",
              "      <td>9271.490256</td>\n",
              "    </tr>\n",
              "    <tr>\n",
              "      <th>2</th>\n",
              "      <td>BRAEAR7WZPQGPBZU</td>\n",
              "      <td>9.0</td>\n",
              "      <td>2015-08-18 19:25:22.000</td>\n",
              "      <td>447</td>\n",
              "      <td>Ridge</td>\n",
              "      <td>Yes</td>\n",
              "      <td>Child_care</td>\n",
              "      <td>0</td>\n",
              "      <td>10</td>\n",
              "      <td>0.0</td>\n",
              "      <td>250.0</td>\n",
              "      <td>9.0</td>\n",
              "      <td>5752.0</td>\n",
              "      <td>7309.0</td>\n",
              "      <td>6785.701362</td>\n",
              "    </tr>\n",
              "    <tr>\n",
              "      <th>3</th>\n",
              "      <td>WATDZ2ZQ8JPDHCTJ</td>\n",
              "      <td>50.0</td>\n",
              "      <td>2016-03-28 21:53:01.000</td>\n",
              "      <td>23</td>\n",
              "      <td>Abran</td>\n",
              "      <td>Yes</td>\n",
              "      <td>Educational</td>\n",
              "      <td>2</td>\n",
              "      <td>48</td>\n",
              "      <td>0.0</td>\n",
              "      <td>144.0</td>\n",
              "      <td>13.0</td>\n",
              "      <td>5090.0</td>\n",
              "      <td>20814.0</td>\n",
              "      <td>13028.917824</td>\n",
              "    </tr>\n",
              "    <tr>\n",
              "      <th>4</th>\n",
              "      <td>JWSEBUKYQPMBZ3RK</td>\n",
              "      <td>7.0</td>\n",
              "      <td>2016-03-29 22:58:53.000</td>\n",
              "      <td>63</td>\n",
              "      <td>Dustyn</td>\n",
              "      <td>Yes</td>\n",
              "      <td>Repair</td>\n",
              "      <td>1</td>\n",
              "      <td>35</td>\n",
              "      <td>1.0</td>\n",
              "      <td>211.0</td>\n",
              "      <td>4.0</td>\n",
              "      <td>2430.0</td>\n",
              "      <td>9261.0</td>\n",
              "      <td>906.553935</td>\n",
              "    </tr>\n",
              "  </tbody>\n",
              "</table>\n",
              "</div>"
            ],
            "text/plain": [
              "         Product_id  Stall_no  ... Maximum_price  Selling_Price\n",
              "0  BRAE2NF6JA5GUEXG      37.0  ...        4713.0    4185.947700\n",
              "1  TUNE8SFB6RJN2HSD      38.0  ...       10352.0    9271.490256\n",
              "2  BRAEAR7WZPQGPBZU       9.0  ...        7309.0    6785.701362\n",
              "3  WATDZ2ZQ8JPDHCTJ      50.0  ...       20814.0   13028.917824\n",
              "4  JWSEBUKYQPMBZ3RK       7.0  ...        9261.0     906.553935\n",
              "\n",
              "[5 rows x 15 columns]"
            ]
          },
          "metadata": {
            "tags": []
          },
          "execution_count": 29
        }
      ]
    },
    {
      "cell_type": "markdown",
      "metadata": {
        "id": "QzeWRRY7qM4C"
      },
      "source": [
        "Since, Selling_Price column also contains negative values, we need to take absolute values of those selling prices. "
      ]
    },
    {
      "cell_type": "code",
      "metadata": {
        "id": "-hrskBmnFfvU"
      },
      "source": [
        "data['Selling_Price'] = data['Selling_Price'].abs()"
      ],
      "execution_count": 30,
      "outputs": []
    },
    {
      "cell_type": "markdown",
      "metadata": {
        "id": "FMrXVEXLFfvU"
      },
      "source": [
        "Out of 15 columns first fourteen columns are our features and last column is our target column/label."
      ]
    },
    {
      "cell_type": "markdown",
      "metadata": {
        "id": "bx5xL1VDzN_E"
      },
      "source": [
        "### Data Preprocessing"
      ]
    },
    {
      "cell_type": "code",
      "metadata": {
        "colab": {
          "base_uri": "https://localhost:8080/"
        },
        "id": "av6oujsYFfvU",
        "outputId": "f9864be3-9593-490f-9790-41c9b6f53228"
      },
      "source": [
        "data.info()"
      ],
      "execution_count": 31,
      "outputs": [
        {
          "output_type": "stream",
          "text": [
            "<class 'pandas.core.frame.DataFrame'>\n",
            "RangeIndex: 6368 entries, 0 to 6367\n",
            "Data columns (total 15 columns):\n",
            " #   Column            Non-Null Count  Dtype  \n",
            "---  ------            --------------  -----  \n",
            " 0   Product_id        6368 non-null   object \n",
            " 1   Stall_no          6363 non-null   float64\n",
            " 2   instock_date      6368 non-null   object \n",
            " 3   Market_Category   6368 non-null   int64  \n",
            " 4   Customer_name     6157 non-null   object \n",
            " 5   Loyalty_customer  6368 non-null   object \n",
            " 6   Product_Category  6368 non-null   object \n",
            " 7   Grade             6368 non-null   int64  \n",
            " 8   Demand            6368 non-null   int64  \n",
            " 9   Discount_avail    6330 non-null   float64\n",
            " 10  charges_1         6170 non-null   float64\n",
            " 11  charges_2 (%)     6163 non-null   float64\n",
            " 12  Minimum_price     6330 non-null   float64\n",
            " 13  Maximum_price     6025 non-null   float64\n",
            " 14  Selling_Price     6327 non-null   float64\n",
            "dtypes: float64(7), int64(3), object(5)\n",
            "memory usage: 746.4+ KB\n"
          ],
          "name": "stdout"
        }
      ]
    },
    {
      "cell_type": "markdown",
      "metadata": {
        "id": "gZQn3ZnLqeXg"
      },
      "source": [
        "There are many fields where data is missing, so dropping all those fields."
      ]
    },
    {
      "cell_type": "code",
      "metadata": {
        "colab": {
          "base_uri": "https://localhost:8080/"
        },
        "id": "KlgEXCWyFfvV",
        "outputId": "7d43c2f1-59ed-41d6-fdd2-7fdcf6d31438"
      },
      "source": [
        "data = data.dropna()\n",
        "data.shape"
      ],
      "execution_count": 32,
      "outputs": [
        {
          "output_type": "execute_result",
          "data": {
            "text/plain": [
              "(5397, 15)"
            ]
          },
          "metadata": {
            "tags": []
          },
          "execution_count": 32
        }
      ]
    },
    {
      "cell_type": "markdown",
      "metadata": {
        "id": "9lwIOWUMyeFV"
      },
      "source": [
        "There are many features which do not have much impact on deciding the selling prices, so dropping all those columns."
      ]
    },
    {
      "cell_type": "code",
      "metadata": {
        "id": "m1bejswngsRM"
      },
      "source": [
        "data = data.drop(['Product_id','instock_date','Stall_no','Customer_name','Loyalty_customer','Demand','Product_Category'],axis=1)\n",
        "test_data = test_data.drop(['Product_id','instock_date','Stall_no','Customer_name','Loyalty_customer','Demand','Product_Category'],axis=1)"
      ],
      "execution_count": 33,
      "outputs": []
    },
    {
      "cell_type": "markdown",
      "metadata": {
        "id": "EgZunImyqtee"
      },
      "source": [
        "Using pywedge library for data preprocessing"
      ]
    },
    {
      "cell_type": "code",
      "metadata": {
        "id": "5ECBR5e6FfvV"
      },
      "source": [
        "import pywedge as pw\n",
        "ppd = pw.Pre_process_data(data, test_data, y='Selling_Price',c=None,type=\"Regression\")"
      ],
      "execution_count": 34,
      "outputs": []
    },
    {
      "cell_type": "markdown",
      "metadata": {
        "id": "5WWQT18Kq6Ya"
      },
      "source": [
        "dataframe_clean() method in pywedge helps to clean data inside dataframe, it interactively asks for methods using which we want to preprocess our data."
      ]
    },
    {
      "cell_type": "code",
      "metadata": {
        "colab": {
          "base_uri": "https://localhost:8080/"
        },
        "id": "mH7fVEaaFfvV",
        "outputId": "448de79e-9ff9-445e-b1bf-36db7423fdc3"
      },
      "source": [
        "new_X, new_y, new_test = ppd.dataframe_clean()"
      ],
      "execution_count": 35,
      "outputs": [
        {
          "output_type": "stream",
          "text": [
            "Reading the datasets...\n",
            "******************************************\n",
            "\n",
            "Train Dataframe summary...\n",
            "******************************************\n",
            "\n",
            "Your selected train dataframe has 8 columns and 5397 Rows.\n",
            "There are 0 columns that have missing values.\n",
            "Empty DataFrame\n",
            "Columns: [Zero Values, Missing Values, % of Total Values, Total Zero Missing Values, % Total Zero Missing Values, Data Type]\n",
            "Index: []\n",
            "******************************************\n",
            "Starting data cleaning...\n",
            "******************************************\n",
            "Do you want to use get_dummies or catcodes to convert categorical to numerical? \n",
            "\tpress 1 for catcodes - Quick info link - https://bit.ly/3lruqtf \n",
            "\tpress 2 for getdummies - Quick info link - https://bit.ly/3d76p7A \n",
            "1\n",
            "Comleted categorical column transformation\n",
            "******************************************\n",
            "Do you want to standardize the data? \n",
            "\tpress 1 for Standard Scalar - Quick info link - https://bit.ly/2GPyG6w \n",
            "\tpress 2 for Robust Scalar - Quick info link - https://bit.ly/3jFNCD5 \n",
            "\tpress 3 for MinMax Scalar - Quick info link - https://bit.ly/2GKYJvX \n",
            "\tpress n for no standardize\n",
            "n\n"
          ],
          "name": "stdout"
        }
      ]
    },
    {
      "cell_type": "code",
      "metadata": {
        "id": "PSKP1piZFfvV"
      },
      "source": [
        "X_train = new_X\n",
        "y_train = new_y\n",
        "X_test = new_test"
      ],
      "execution_count": 36,
      "outputs": []
    },
    {
      "cell_type": "markdown",
      "metadata": {
        "id": "5R0Yxf9grM2M"
      },
      "source": [
        "Preparing a baseline model"
      ]
    },
    {
      "cell_type": "code",
      "metadata": {
        "id": "QwseWefhFfvV"
      },
      "source": [
        "blm = pw.baseline_model(X_train,y_train)"
      ],
      "execution_count": 37,
      "outputs": []
    },
    {
      "cell_type": "markdown",
      "metadata": {
        "id": "dipx4zcCrUHF"
      },
      "source": [
        "Regression_summary() provides us best features based on their feature importance scores, also it gives us an idea about different ML algorithms, and how they perform over the dataset. "
      ]
    },
    {
      "cell_type": "code",
      "metadata": {
        "colab": {
          "base_uri": "https://localhost:8080/"
        },
        "id": "6yoRK7JBFfvV",
        "outputId": "31c95eb3-5af7-4fd4-d634-54f931511dce"
      },
      "source": [
        "blm.Regression_summary()"
      ],
      "execution_count": 38,
      "outputs": [
        {
          "output_type": "stream",
          "text": [
            "Starting regression summary...\n",
            "TOP 10 FEATURE IMPORTANCE TABLE\n",
            "Maximum_price      0.785476\n",
            "Discount_avail     0.121125\n",
            "Minimum_price      0.084280\n",
            "charges_1          0.007181\n",
            "Market_Category    0.001073\n",
            "charges_2 (%)      0.000718\n",
            "Grade              0.000147\n",
            "dtype: float64\n",
            "Please enter test size: (for eg. please enter 0.20 for 20% test size): \n",
            "\t0.2\n",
            "--------------------------LINEAR MODELS---------------------------------\n",
            "Linear Reg     | exp_var = 0.891 | mae = 451.979 | rmse = 21.260 | r2 = 0.890 | Train time = 0.002s | Pred. time = 0.000s\n",
            "KNN            | exp_var = 0.591 | mae = 1,139.562 | rmse = 33.757 | r2 = 0.590 | Train time = 0.006s | Pred. time = 0.008s\n",
            "LinearSVR      | exp_var = 0.130 | mae = 3,937.447 | rmse = 62.749 | r2 = -1.550 | Train time = 0.263s | Pred. time = 0.000s\n",
            "Lasso          | exp_var = 0.890 | mae = 451.713 | rmse = 21.254 | r2 = 0.890 | Train time = 0.002s | Pred. time = 0.000s\n",
            "Ridge          | exp_var = 0.890 | mae = 451.715 | rmse = 21.254 | r2 = 0.890 | Train time = 0.001s | Pred. time = 0.000s\n",
            "------------------------NON LINEAR MODELS----------------------------------\n",
            "---------------------THIS MIGHT TAKE A WHILE-------------------------------\n",
            "SVR            | exp_var = 0.208 | mae = 1,934.761 | rmse = 43.986 | r2 = 0.205 | Train time = 1.167s | Pred. time = 0.120s\n",
            "Decision Tree  | exp_var = 0.957 | mae = 388.028 | rmse = 19.698 | r2 = 0.957 | Train time = 0.008s | Pred. time = 0.000s\n",
            "Random Forest  | exp_var = 0.992 | mae = 87.457 | rmse = 9.352 | r2 = 0.992 | Train time = 1.027s | Pred. time = 0.017s\n",
            "GB Regressor   | exp_var = 0.992 | mae = 89.836 | rmse = 9.478 | r2 = 0.992 | Train time = 0.972s | Pred. time = 0.003s\n",
            "CB Regressor   | exp_var = 0.993 | mae = 59.959 | rmse = 7.743 | r2 = 0.993 | Train time = 1.773s | Pred. time = 0.003s\n",
            "ADAB Regressor | exp_var = 0.897 | mae = 861.608 | rmse = 29.353 | r2 = 0.885 | Train time = 0.247s | Pred. time = 0.006s\n",
            "MLP Regressor  | exp_var = 0.616 | mae = 1,046.268 | rmse = 32.346 | r2 = 0.616 | Train time = 1.033s | Pred. time = 0.001s\n",
            "[12:51:09] WARNING: /workspace/src/objective/regression_obj.cu:152: reg:linear is now deprecated in favor of reg:squarederror.\n",
            "XGB Regressor  | exp_var = 0.992 | mae = 108.396 | rmse = 10.411 | r2 = 0.992 | Train time = 0.202s | Pred. time = 0.004s\n"
          ],
          "name": "stdout"
        }
      ]
    },
    {
      "cell_type": "markdown",
      "metadata": {
        "id": "A_T-_lfNry-Y"
      },
      "source": [
        "Here, we can conclude best ML algorithms that we can use on this dataset are Random Forest, GB Regressor, CB Regressor, XGB Regressor. \n",
        "I'm using here Gradient Boosting Regressor, XGBoost Regressor and Random Forests. "
      ]
    },
    {
      "cell_type": "code",
      "metadata": {
        "id": "Ofi4-7aYFfvV"
      },
      "source": [
        "X_t,X_v,Y_t,Y_v = train_test_split(X_train.values,y_train.values,test_size=0.2,random_state=42)"
      ],
      "execution_count": 39,
      "outputs": []
    },
    {
      "cell_type": "markdown",
      "metadata": {
        "id": "kf5C2MwcFfvV"
      },
      "source": [
        "### Using Gradient Boosting Regressor"
      ]
    },
    {
      "cell_type": "code",
      "metadata": {
        "id": "ZizRivP0FfvV"
      },
      "source": [
        "from sklearn.ensemble import GradientBoostingRegressor"
      ],
      "execution_count": 40,
      "outputs": []
    },
    {
      "cell_type": "code",
      "metadata": {
        "id": "pOej0SM2ok8y"
      },
      "source": [
        "gbr = GradientBoostingRegressor(alpha=0.9, ccp_alpha=0.2,learning_rate=0.01, loss='ls', max_depth=7,\n",
        "                          max_features=None, max_leaf_nodes=None, min_impurity_split=0.1,\n",
        "                          min_samples_leaf=1, min_samples_split=2,\n",
        "                          min_weight_fraction_leaf=0.0, n_estimators=15000,\n",
        "                          random_state=42, subsample=0.7)"
      ],
      "execution_count": 47,
      "outputs": []
    },
    {
      "cell_type": "code",
      "metadata": {
        "id": "j9RjiMrNFfvV"
      },
      "source": [
        "gb_model = gbr.fit(X_t,Y_t)"
      ],
      "execution_count": 48,
      "outputs": []
    },
    {
      "cell_type": "code",
      "metadata": {
        "colab": {
          "base_uri": "https://localhost:8080/"
        },
        "id": "c-wK_c0_FfvW",
        "scrolled": true,
        "outputId": "dd3c3b96-189b-47a1-e26e-273efe83e5a4"
      },
      "source": [
        "print(\"Accuracy of training data is: \",gb_model.score(X_t,Y_t))\n",
        "print(\"Accuracy of testing data is: \",gb_model.score(X_v,Y_v))"
      ],
      "execution_count": 49,
      "outputs": [
        {
          "output_type": "stream",
          "text": [
            "Accuracy of training data is:  0.9999880658329608\n",
            "Accuracy of testing data is:  0.9993430836166824\n"
          ],
          "name": "stdout"
        }
      ]
    },
    {
      "cell_type": "code",
      "metadata": {
        "id": "Sqnk_fo-FfvW"
      },
      "source": [
        "GBpredict = gbr.predict(X_v)\n",
        "GBpredict = np.absolute(GBpredict)"
      ],
      "execution_count": 50,
      "outputs": []
    },
    {
      "cell_type": "code",
      "metadata": {
        "colab": {
          "base_uri": "https://localhost:8080/"
        },
        "id": "BB6DsIJ_IsYv",
        "outputId": "959dddc3-c90f-4e37-95de-8b6bf97adbc3"
      },
      "source": [
        "print(np.sqrt(mean_squared_log_error( Y_v,GBpredict )))"
      ],
      "execution_count": 125,
      "outputs": [
        {
          "output_type": "stream",
          "text": [
            "0.018855772220086723\n"
          ],
          "name": "stdout"
        }
      ]
    },
    {
      "cell_type": "code",
      "metadata": {
        "id": "4DmwVDp5FfvW"
      },
      "source": [
        "gbpredict = gb_model.predict(X_test.values)\n",
        "arr1 = np.stack((pdf,gbpredict),axis=1)"
      ],
      "execution_count": 55,
      "outputs": []
    },
    {
      "cell_type": "code",
      "metadata": {
        "id": "503V5w8tFfvW"
      },
      "source": [
        "gbpred_df['Selling_Price'] = gbpred_df['Selling_Price'].abs()\n",
        "gbpred_df  = pd.DataFrame(arr1,columns=['Product_id','Selling_Price'])"
      ],
      "execution_count": 56,
      "outputs": []
    },
    {
      "cell_type": "code",
      "metadata": {
        "id": "avxTnUGkFfvW",
        "colab": {
          "base_uri": "https://localhost:8080/",
          "height": 17
        },
        "outputId": "c82d1504-c997-4d94-9480-4bf2332a0343"
      },
      "source": [
        "gbpred_df.to_csv(\"GBPredict.csv\",index=False)\n",
        "from google.colab import files\n",
        "files.download('GBPredict.csv') "
      ],
      "execution_count": 59,
      "outputs": [
        {
          "output_type": "display_data",
          "data": {
            "application/javascript": [
              "\n",
              "    async function download(id, filename, size) {\n",
              "      if (!google.colab.kernel.accessAllowed) {\n",
              "        return;\n",
              "      }\n",
              "      const div = document.createElement('div');\n",
              "      const label = document.createElement('label');\n",
              "      label.textContent = `Downloading \"${filename}\": `;\n",
              "      div.appendChild(label);\n",
              "      const progress = document.createElement('progress');\n",
              "      progress.max = size;\n",
              "      div.appendChild(progress);\n",
              "      document.body.appendChild(div);\n",
              "\n",
              "      const buffers = [];\n",
              "      let downloaded = 0;\n",
              "\n",
              "      const channel = await google.colab.kernel.comms.open(id);\n",
              "      // Send a message to notify the kernel that we're ready.\n",
              "      channel.send({})\n",
              "\n",
              "      for await (const message of channel.messages) {\n",
              "        // Send a message to notify the kernel that we're ready.\n",
              "        channel.send({})\n",
              "        if (message.buffers) {\n",
              "          for (const buffer of message.buffers) {\n",
              "            buffers.push(buffer);\n",
              "            downloaded += buffer.byteLength;\n",
              "            progress.value = downloaded;\n",
              "          }\n",
              "        }\n",
              "      }\n",
              "      const blob = new Blob(buffers, {type: 'application/binary'});\n",
              "      const a = document.createElement('a');\n",
              "      a.href = window.URL.createObjectURL(blob);\n",
              "      a.download = filename;\n",
              "      div.appendChild(a);\n",
              "      a.click();\n",
              "      div.remove();\n",
              "    }\n",
              "  "
            ],
            "text/plain": [
              "<IPython.core.display.Javascript object>"
            ]
          },
          "metadata": {
            "tags": []
          }
        },
        {
          "output_type": "display_data",
          "data": {
            "application/javascript": [
              "download(\"download_0a64d901-7813-4381-9125-c04a6ab5e584\", \"GBPredict.csv\", 120916)"
            ],
            "text/plain": [
              "<IPython.core.display.Javascript object>"
            ]
          },
          "metadata": {
            "tags": []
          }
        }
      ]
    },
    {
      "cell_type": "markdown",
      "metadata": {
        "id": "9o9lCwbQN9qq"
      },
      "source": [
        "### Using Random Forest Regressor"
      ]
    },
    {
      "cell_type": "code",
      "metadata": {
        "id": "CZzU3aOwOCVx"
      },
      "source": [
        "from sklearn.ensemble import RandomForestRegressor"
      ],
      "execution_count": 60,
      "outputs": []
    },
    {
      "cell_type": "code",
      "metadata": {
        "id": "6vw2ul51ada8"
      },
      "source": [
        "rf = RandomForestRegressor(max_depth=17,max_features=7,max_leaf_nodes=1925,max_samples= 3400,min_impurity_decrease=0.0,\n",
        " min_impurity_split= None,min_samples_leaf= 1,min_samples_split= 2,min_weight_fraction_leaf= 0.0,n_estimators=250,\n",
        "random_state=42)"
      ],
      "execution_count": 61,
      "outputs": []
    },
    {
      "cell_type": "code",
      "metadata": {
        "id": "9UY6cIBXOCqM"
      },
      "source": [
        "rf_model = rf.fit(X_t,Y_t)"
      ],
      "execution_count": 62,
      "outputs": []
    },
    {
      "cell_type": "code",
      "metadata": {
        "colab": {
          "base_uri": "https://localhost:8080/"
        },
        "id": "6_WxVO8wOCto",
        "outputId": "24cf8af6-e52d-4e22-a405-d8beeb801495"
      },
      "source": [
        "print(\"Accuracy of training data is: \",rf_model.score(X_t,Y_t))\n",
        "print(\"Accuracy of testing data is: \",rf_model.score(X_v,Y_v))"
      ],
      "execution_count": 63,
      "outputs": [
        {
          "output_type": "stream",
          "text": [
            "Accuracy of training data is:  0.9991932738591511\n",
            "Accuracy of testing data is:  0.9988850032450117\n"
          ],
          "name": "stdout"
        }
      ]
    },
    {
      "cell_type": "code",
      "metadata": {
        "id": "pBwvpKEuODAK"
      },
      "source": [
        "RFpredict = rf_model.predict(X_v)\n",
        "RFpredict = np.absolute(RFpredict)"
      ],
      "execution_count": 64,
      "outputs": []
    },
    {
      "cell_type": "code",
      "metadata": {
        "colab": {
          "base_uri": "https://localhost:8080/"
        },
        "id": "x0byZxegODHV",
        "outputId": "03b067a2-59a3-4a08-b2bb-a3e1c99208b4"
      },
      "source": [
        "print(np.sqrt(mean_squared_log_error( Y_v, RFpredict )))"
      ],
      "execution_count": 126,
      "outputs": [
        {
          "output_type": "stream",
          "text": [
            "0.028821403667411104\n"
          ],
          "name": "stdout"
        }
      ]
    },
    {
      "cell_type": "code",
      "metadata": {
        "id": "C9xHx1gdODVZ"
      },
      "source": [
        "rfpredict = rf_model.predict(X_test.values)"
      ],
      "execution_count": 66,
      "outputs": []
    },
    {
      "cell_type": "code",
      "metadata": {
        "id": "pYfWpZv2OvXp"
      },
      "source": [
        "arr2 = np.stack((pdf,rfpredict),axis=1)\n",
        "rfpred_df  = pd.DataFrame(arr2,columns=['Product_id','Selling_Price'])\n",
        "rfpred_df['Selling_Price'] = rfpred_df['Selling_Price'].abs()"
      ],
      "execution_count": 67,
      "outputs": []
    },
    {
      "cell_type": "code",
      "metadata": {
        "colab": {
          "base_uri": "https://localhost:8080/",
          "height": 17
        },
        "id": "Dzm95Q0WPDUk",
        "outputId": "f59cad37-9867-4883-ca0d-6b017ea4b6fd"
      },
      "source": [
        "rfpred_df.to_csv(\"RFPredict.csv\",index=False)\n",
        "from google.colab import files\n",
        "files.download('RFPredict.csv') "
      ],
      "execution_count": 68,
      "outputs": [
        {
          "output_type": "display_data",
          "data": {
            "application/javascript": [
              "\n",
              "    async function download(id, filename, size) {\n",
              "      if (!google.colab.kernel.accessAllowed) {\n",
              "        return;\n",
              "      }\n",
              "      const div = document.createElement('div');\n",
              "      const label = document.createElement('label');\n",
              "      label.textContent = `Downloading \"${filename}\": `;\n",
              "      div.appendChild(label);\n",
              "      const progress = document.createElement('progress');\n",
              "      progress.max = size;\n",
              "      div.appendChild(progress);\n",
              "      document.body.appendChild(div);\n",
              "\n",
              "      const buffers = [];\n",
              "      let downloaded = 0;\n",
              "\n",
              "      const channel = await google.colab.kernel.comms.open(id);\n",
              "      // Send a message to notify the kernel that we're ready.\n",
              "      channel.send({})\n",
              "\n",
              "      for await (const message of channel.messages) {\n",
              "        // Send a message to notify the kernel that we're ready.\n",
              "        channel.send({})\n",
              "        if (message.buffers) {\n",
              "          for (const buffer of message.buffers) {\n",
              "            buffers.push(buffer);\n",
              "            downloaded += buffer.byteLength;\n",
              "            progress.value = downloaded;\n",
              "          }\n",
              "        }\n",
              "      }\n",
              "      const blob = new Blob(buffers, {type: 'application/binary'});\n",
              "      const a = document.createElement('a');\n",
              "      a.href = window.URL.createObjectURL(blob);\n",
              "      a.download = filename;\n",
              "      div.appendChild(a);\n",
              "      a.click();\n",
              "      div.remove();\n",
              "    }\n",
              "  "
            ],
            "text/plain": [
              "<IPython.core.display.Javascript object>"
            ]
          },
          "metadata": {
            "tags": []
          }
        },
        {
          "output_type": "display_data",
          "data": {
            "application/javascript": [
              "download(\"download_cec9c2c2-5376-44d4-9767-5c0e089eb0f2\", \"RFPredict.csv\", 120876)"
            ],
            "text/plain": [
              "<IPython.core.display.Javascript object>"
            ]
          },
          "metadata": {
            "tags": []
          }
        }
      ]
    },
    {
      "cell_type": "markdown",
      "metadata": {
        "id": "QWAAKEtHFfvY"
      },
      "source": [
        "### Using XGBoost Regressor"
      ]
    },
    {
      "cell_type": "code",
      "metadata": {
        "id": "yYF6jqMCFfvY"
      },
      "source": [
        "from xgboost import XGBRegressor"
      ],
      "execution_count": 69,
      "outputs": []
    },
    {
      "cell_type": "code",
      "metadata": {
        "id": "UgPLmXc7FfvY"
      },
      "source": [
        "xgr =XGBRegressor(max_depth=7,reg_alpha=0.005,n_estimators=17000,learning_rate=0.01)"
      ],
      "execution_count": 70,
      "outputs": []
    },
    {
      "cell_type": "code",
      "metadata": {
        "colab": {
          "base_uri": "https://localhost:8080/"
        },
        "id": "cD7r8hOzFfvY",
        "outputId": "4c2593ed-57b0-4366-c20c-6649db9e47d5"
      },
      "source": [
        "xg_model = xgr.fit(X_t,Y_t)"
      ],
      "execution_count": 71,
      "outputs": [
        {
          "output_type": "stream",
          "text": [
            "[13:05:27] WARNING: /workspace/src/objective/regression_obj.cu:152: reg:linear is now deprecated in favor of reg:squarederror.\n"
          ],
          "name": "stdout"
        }
      ]
    },
    {
      "cell_type": "code",
      "metadata": {
        "id": "X_-a4AzRFfvY"
      },
      "source": [
        "XGpredict = xg_model.predict(X_v)\n",
        "XGpredict = np.absolute(XGpredict)"
      ],
      "execution_count": 72,
      "outputs": []
    },
    {
      "cell_type": "code",
      "metadata": {
        "colab": {
          "base_uri": "https://localhost:8080/"
        },
        "id": "awDrXd-7FfvY",
        "outputId": "f6d8caf3-005b-446e-e47a-66cb280ea7c7"
      },
      "source": [
        "print(\"Accuracy of training data is: \",xg_model.score(X_t,Y_t))\n",
        "print(\"Accuracy of testing data is: \",xg_model.score(X_v,Y_v))"
      ],
      "execution_count": 73,
      "outputs": [
        {
          "output_type": "stream",
          "text": [
            "Accuracy of training data is:  0.9999999072726595\n",
            "Accuracy of testing data is:  0.9991610654782287\n"
          ],
          "name": "stdout"
        }
      ]
    },
    {
      "cell_type": "code",
      "metadata": {
        "colab": {
          "base_uri": "https://localhost:8080/"
        },
        "id": "FH_i51EqFfvY",
        "outputId": "281e5998-fe24-4380-b2d5-8c96036d24b1"
      },
      "source": [
        "print(np.sqrt(mean_squared_log_error(Y_v,X_val_predict )))"
      ],
      "execution_count": 74,
      "outputs": [
        {
          "output_type": "stream",
          "text": [
            "0.018855772220086723\n"
          ],
          "name": "stdout"
        }
      ]
    },
    {
      "cell_type": "code",
      "metadata": {
        "id": "MwH3cNud3Umj"
      },
      "source": [
        "xgpredict = xg_model.predict(X_test.values)"
      ],
      "execution_count": 75,
      "outputs": []
    },
    {
      "cell_type": "code",
      "metadata": {
        "id": "jhAIuZdi3VUM"
      },
      "source": [
        "arr3 = np.stack((pdf,xgpredict),axis=1)\n",
        "xgpred_df  = pd.DataFrame(arr3,columns=['Product_id','Selling_Price'])\n",
        "xgpred_df['Selling_Price'] = xgpred_df['Selling_Price'].abs()"
      ],
      "execution_count": 76,
      "outputs": []
    },
    {
      "cell_type": "code",
      "metadata": {
        "colab": {
          "base_uri": "https://localhost:8080/",
          "height": 17
        },
        "id": "SxiU2Ihp3U94",
        "outputId": "c5e7ae59-b3eb-4267-963c-926d3d805e39"
      },
      "source": [
        "xgpred_df.to_csv(\"XGPredict.csv\",index=False)\n",
        "from google.colab import files\n",
        "files.download('XGPredict.csv') "
      ],
      "execution_count": 77,
      "outputs": [
        {
          "output_type": "display_data",
          "data": {
            "application/javascript": [
              "\n",
              "    async function download(id, filename, size) {\n",
              "      if (!google.colab.kernel.accessAllowed) {\n",
              "        return;\n",
              "      }\n",
              "      const div = document.createElement('div');\n",
              "      const label = document.createElement('label');\n",
              "      label.textContent = `Downloading \"${filename}\": `;\n",
              "      div.appendChild(label);\n",
              "      const progress = document.createElement('progress');\n",
              "      progress.max = size;\n",
              "      div.appendChild(progress);\n",
              "      document.body.appendChild(div);\n",
              "\n",
              "      const buffers = [];\n",
              "      let downloaded = 0;\n",
              "\n",
              "      const channel = await google.colab.kernel.comms.open(id);\n",
              "      // Send a message to notify the kernel that we're ready.\n",
              "      channel.send({})\n",
              "\n",
              "      for await (const message of channel.messages) {\n",
              "        // Send a message to notify the kernel that we're ready.\n",
              "        channel.send({})\n",
              "        if (message.buffers) {\n",
              "          for (const buffer of message.buffers) {\n",
              "            buffers.push(buffer);\n",
              "            downloaded += buffer.byteLength;\n",
              "            progress.value = downloaded;\n",
              "          }\n",
              "        }\n",
              "      }\n",
              "      const blob = new Blob(buffers, {type: 'application/binary'});\n",
              "      const a = document.createElement('a');\n",
              "      a.href = window.URL.createObjectURL(blob);\n",
              "      a.download = filename;\n",
              "      div.appendChild(a);\n",
              "      a.click();\n",
              "      div.remove();\n",
              "    }\n",
              "  "
            ],
            "text/plain": [
              "<IPython.core.display.Javascript object>"
            ]
          },
          "metadata": {
            "tags": []
          }
        },
        {
          "output_type": "display_data",
          "data": {
            "application/javascript": [
              "download(\"download_396ec651-6ec5-4dff-9df6-faee105acb89\", \"XGPredict.csv\", 115382)"
            ],
            "text/plain": [
              "<IPython.core.display.Javascript object>"
            ]
          },
          "metadata": {
            "tags": []
          }
        }
      ]
    },
    {
      "cell_type": "markdown",
      "metadata": {
        "id": "PbUYvydEJAwe"
      },
      "source": [
        "## Stacked Regression"
      ]
    },
    {
      "cell_type": "code",
      "metadata": {
        "id": "jIlDnWRZI9kX"
      },
      "source": [
        "from mlxtend.regressor import StackingCVRegressor\n",
        "from sklearn.model_selection import KFold, cross_val_score\n",
        "from sklearn.pipeline import make_pipeline\n",
        "from sklearn.preprocessing import RobustScaler"
      ],
      "execution_count": 78,
      "outputs": []
    },
    {
      "cell_type": "code",
      "metadata": {
        "id": "lnreNgi6I-Wt"
      },
      "source": [
        "kfolds = KFold(n_splits=8,shuffle=True, random_state=42)\n",
        "\n",
        "def rmsle(y, y_pred):\n",
        "    return np.sqrt(mean_squared_log_error(y, y_pred))\n",
        "\n",
        "def cv_rmse(model, X=X_t):\n",
        "    rmse = np.sqrt(-cross_val_score(model, X, Y_t, scoring=\"neg_mean_squared_error\", cv=kfolds))\n",
        "    return (rmse)"
      ],
      "execution_count": 79,
      "outputs": []
    },
    {
      "cell_type": "code",
      "metadata": {
        "id": "OZv_6nyAI_KP"
      },
      "source": [
        "stack_gen = StackingCVRegressor(regressors=(gbr,rf,xgr),\n",
        "                                meta_regressor=xgr,use_features_in_secondary=True,store_train_meta_features=True)"
      ],
      "execution_count": 80,
      "outputs": []
    },
    {
      "cell_type": "code",
      "metadata": {
        "id": "Xpf61ba-86y2"
      },
      "source": [
        "scores={}"
      ],
      "execution_count": 81,
      "outputs": []
    },
    {
      "cell_type": "code",
      "metadata": {
        "colab": {
          "base_uri": "https://localhost:8080/"
        },
        "id": "SSSU1qOoI_Si",
        "outputId": "a628a749-b8d6-4cf7-8383-2e4bed3c829f"
      },
      "source": [
        "score = cv_rmse(gbr)\n",
        "print(\"gradient boost: {:.4f} ({:.4f})\\n\".format(score.mean(), score.std()), )\n",
        "\n",
        "score = cv_rmse(xgr)\n",
        "print(\"xgboost: {:.4f} ({:.4f})\\n\".format(score.mean(), score.std()), )\n",
        "\n",
        "score = cv_rmse(rf)\n",
        "print(\"rf: {:.4f} ({:.4f})\\n\".format(score.mean(), score.std()), )"
      ],
      "execution_count": 82,
      "outputs": [
        {
          "output_type": "stream",
          "text": [
            "gradient boost: 147.5888 (75.7807)\n",
            "\n",
            "[13:27:00] WARNING: /workspace/src/objective/regression_obj.cu:152: reg:linear is now deprecated in favor of reg:squarederror.\n",
            "[13:27:58] WARNING: /workspace/src/objective/regression_obj.cu:152: reg:linear is now deprecated in favor of reg:squarederror.\n",
            "[13:28:57] WARNING: /workspace/src/objective/regression_obj.cu:152: reg:linear is now deprecated in favor of reg:squarederror.\n",
            "[13:29:56] WARNING: /workspace/src/objective/regression_obj.cu:152: reg:linear is now deprecated in favor of reg:squarederror.\n",
            "[13:30:56] WARNING: /workspace/src/objective/regression_obj.cu:152: reg:linear is now deprecated in favor of reg:squarederror.\n",
            "[13:31:56] WARNING: /workspace/src/objective/regression_obj.cu:152: reg:linear is now deprecated in favor of reg:squarederror.\n",
            "[13:32:56] WARNING: /workspace/src/objective/regression_obj.cu:152: reg:linear is now deprecated in favor of reg:squarederror.\n",
            "[13:33:56] WARNING: /workspace/src/objective/regression_obj.cu:152: reg:linear is now deprecated in favor of reg:squarederror.\n",
            "xgboost: 164.0848 (70.0953)\n",
            "\n",
            "rf: 171.4232 (74.4065)\n",
            "\n"
          ],
          "name": "stdout"
        }
      ]
    },
    {
      "cell_type": "code",
      "metadata": {
        "colab": {
          "base_uri": "https://localhost:8080/"
        },
        "id": "OX0aacWhMDoH",
        "outputId": "e991291b-c3e5-4d2e-998c-2039fdf1d6c0"
      },
      "source": [
        "print('stack_gen')\n",
        "stack_gen_model = stack_gen.fit(X_t,Y_t)"
      ],
      "execution_count": 83,
      "outputs": [
        {
          "output_type": "stream",
          "text": [
            "stack_gen\n",
            "[13:44:20] WARNING: /workspace/src/objective/regression_obj.cu:152: reg:linear is now deprecated in favor of reg:squarederror.\n",
            "[13:45:12] WARNING: /workspace/src/objective/regression_obj.cu:152: reg:linear is now deprecated in favor of reg:squarederror.\n",
            "[13:46:06] WARNING: /workspace/src/objective/regression_obj.cu:152: reg:linear is now deprecated in favor of reg:squarederror.\n",
            "[13:46:59] WARNING: /workspace/src/objective/regression_obj.cu:152: reg:linear is now deprecated in favor of reg:squarederror.\n",
            "[13:47:53] WARNING: /workspace/src/objective/regression_obj.cu:152: reg:linear is now deprecated in favor of reg:squarederror.\n",
            "[13:48:45] WARNING: /workspace/src/objective/regression_obj.cu:152: reg:linear is now deprecated in favor of reg:squarederror.\n",
            "[13:52:21] WARNING: /workspace/src/objective/regression_obj.cu:152: reg:linear is now deprecated in favor of reg:squarederror.\n"
          ],
          "name": "stdout"
        }
      ]
    },
    {
      "cell_type": "code",
      "metadata": {
        "id": "nq1IekLMUy-F"
      },
      "source": [
        "def blend_models(X):\n",
        "    return ((0.65* gb_model.predict(X)) + \\\n",
        "            #(0.1 * xg_model.predict(X)) + \\\n",
        "            #(0.05 * rf_model.predict(X)) + \\\n",
        "            (0.35 * stack_gen_model.predict(X)))"
      ],
      "execution_count": 215,
      "outputs": []
    },
    {
      "cell_type": "code",
      "metadata": {
        "id": "hl_GRYJLKNss"
      },
      "source": [
        "blend_v = blend_models(X_v)\n",
        "blend_v = np.absolute(blend_v)"
      ],
      "execution_count": 216,
      "outputs": []
    },
    {
      "cell_type": "code",
      "metadata": {
        "colab": {
          "base_uri": "https://localhost:8080/"
        },
        "id": "6mjtd5vVUyqT",
        "outputId": "de664994-f7eb-4720-97fe-98d504f725b4"
      },
      "source": [
        "print('RMSLE score on test data:')\n",
        "print(rmsle(Y_v, blend_v))\n",
        "print(np.sqrt(mean_squared_error( Y_v,blend_v)))"
      ],
      "execution_count": 217,
      "outputs": [
        {
          "output_type": "stream",
          "text": [
            "RMSLE score on test data:\n",
            "0.018398127381783216\n",
            "70.58772699150552\n"
          ],
          "name": "stdout"
        }
      ]
    },
    {
      "cell_type": "code",
      "metadata": {
        "id": "_6wV_cHcuQH1"
      },
      "source": [
        "blendpredict = blend_models(X_test.values)"
      ],
      "execution_count": 211,
      "outputs": []
    },
    {
      "cell_type": "code",
      "metadata": {
        "id": "np7nOJ90cnhJ"
      },
      "source": [
        "new_arr = np.stack((pdf,blendpredict),axis=1)"
      ],
      "execution_count": 212,
      "outputs": []
    },
    {
      "cell_type": "code",
      "metadata": {
        "id": "EfiTQIuuuwER"
      },
      "source": [
        "blendpred_df  = pd.DataFrame(new_arr,columns=['Product_id','Selling_Price'])\n",
        "blendpred_df['Selling_Price'] = blendpred_df['Selling_Price'].abs()"
      ],
      "execution_count": 213,
      "outputs": []
    },
    {
      "cell_type": "code",
      "metadata": {
        "colab": {
          "base_uri": "https://localhost:8080/",
          "height": 17
        },
        "id": "IIUpGitWvAkC",
        "outputId": "77dfbb58-2e6e-476a-fec4-59b6dbd42309"
      },
      "source": [
        "blendpred_df.to_csv(\"BP.csv\",index=False)\n",
        "from google.colab import files\n",
        "files.download('BP.csv') "
      ],
      "execution_count": 214,
      "outputs": [
        {
          "output_type": "display_data",
          "data": {
            "application/javascript": [
              "\n",
              "    async function download(id, filename, size) {\n",
              "      if (!google.colab.kernel.accessAllowed) {\n",
              "        return;\n",
              "      }\n",
              "      const div = document.createElement('div');\n",
              "      const label = document.createElement('label');\n",
              "      label.textContent = `Downloading \"${filename}\": `;\n",
              "      div.appendChild(label);\n",
              "      const progress = document.createElement('progress');\n",
              "      progress.max = size;\n",
              "      div.appendChild(progress);\n",
              "      document.body.appendChild(div);\n",
              "\n",
              "      const buffers = [];\n",
              "      let downloaded = 0;\n",
              "\n",
              "      const channel = await google.colab.kernel.comms.open(id);\n",
              "      // Send a message to notify the kernel that we're ready.\n",
              "      channel.send({})\n",
              "\n",
              "      for await (const message of channel.messages) {\n",
              "        // Send a message to notify the kernel that we're ready.\n",
              "        channel.send({})\n",
              "        if (message.buffers) {\n",
              "          for (const buffer of message.buffers) {\n",
              "            buffers.push(buffer);\n",
              "            downloaded += buffer.byteLength;\n",
              "            progress.value = downloaded;\n",
              "          }\n",
              "        }\n",
              "      }\n",
              "      const blob = new Blob(buffers, {type: 'application/binary'});\n",
              "      const a = document.createElement('a');\n",
              "      a.href = window.URL.createObjectURL(blob);\n",
              "      a.download = filename;\n",
              "      div.appendChild(a);\n",
              "      a.click();\n",
              "      div.remove();\n",
              "    }\n",
              "  "
            ],
            "text/plain": [
              "<IPython.core.display.Javascript object>"
            ]
          },
          "metadata": {
            "tags": []
          }
        },
        {
          "output_type": "display_data",
          "data": {
            "application/javascript": [
              "download(\"download_3a5a06a8-a95e-4682-86c3-bd8886a970b5\", \"BP.csv\", 115441)"
            ],
            "text/plain": [
              "<IPython.core.display.Javascript object>"
            ]
          },
          "metadata": {
            "tags": []
          }
        }
      ]
    },
    {
      "cell_type": "code",
      "metadata": {
        "id": "Xp3mbXhs4DHj"
      },
      "source": [
        ""
      ],
      "execution_count": null,
      "outputs": []
    }
  ]
}